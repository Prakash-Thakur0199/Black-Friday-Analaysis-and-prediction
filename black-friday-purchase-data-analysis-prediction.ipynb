{
 "cells": [
  {
   "cell_type": "code",
   "execution_count": 1,
   "id": "e457a005",
   "metadata": {
    "execution": {
     "iopub.execute_input": "2022-11-06T20:04:18.172859Z",
     "iopub.status.busy": "2022-11-06T20:04:18.171811Z",
     "iopub.status.idle": "2022-11-06T20:04:19.795210Z",
     "shell.execute_reply": "2022-11-06T20:04:19.793706Z"
    },
    "papermill": {
     "duration": 1.653894,
     "end_time": "2022-11-06T20:04:19.798803",
     "exception": false,
     "start_time": "2022-11-06T20:04:18.144909",
     "status": "completed"
    },
    "tags": []
   },
   "outputs": [],
   "source": [
    "#Importing the Required Libraries\n",
    "import pandas as pd\n",
    "import numpy as np\n",
    "import matplotlib.pyplot as plt\n",
    "import seaborn as sns\n",
    "import scipy.stats as st\n",
    "from sklearn.feature_selection import SelectKBest , f_regression \n",
    "from sklearn.preprocessing import StandardScaler\n",
    "from sklearn.model_selection import train_test_split \n",
    "from sklearn.linear_model import LinearRegression , Lasso , Ridge\n",
    "from sklearn.metrics import r2_score"
   ]
  },
  {
   "cell_type": "code",
   "execution_count": 2,
   "id": "594c22cc",
   "metadata": {
    "execution": {
     "iopub.execute_input": "2022-11-06T20:04:19.854387Z",
     "iopub.status.busy": "2022-11-06T20:04:19.853402Z",
     "iopub.status.idle": "2022-11-06T20:04:19.861687Z",
     "shell.execute_reply": "2022-11-06T20:04:19.859349Z"
    },
    "papermill": {
     "duration": 0.0417,
     "end_time": "2022-11-06T20:04:19.866506",
     "exception": false,
     "start_time": "2022-11-06T20:04:19.824806",
     "status": "completed"
    },
    "tags": []
   },
   "outputs": [],
   "source": [
    "import warnings\n",
    "warnings.filterwarnings('ignore')"
   ]
  },
  {
   "cell_type": "code",
   "execution_count": 3,
   "id": "830ef834",
   "metadata": {
    "execution": {
     "iopub.execute_input": "2022-11-06T20:04:19.921912Z",
     "iopub.status.busy": "2022-11-06T20:04:19.920995Z",
     "iopub.status.idle": "2022-11-06T20:04:21.125627Z",
     "shell.execute_reply": "2022-11-06T20:04:21.124295Z"
    },
    "papermill": {
     "duration": 1.234603,
     "end_time": "2022-11-06T20:04:21.128797",
     "exception": false,
     "start_time": "2022-11-06T20:04:19.894194",
     "status": "completed"
    },
    "tags": []
   },
   "outputs": [],
   "source": [
    "df = pd.read_csv('train.csv')"
   ]
  },
  {
   "cell_type": "code",
   "execution_count": null,
   "id": "7257520a",
   "metadata": {},
   "outputs": [],
   "source": [
    "## Data shape size. Head (), info()-- Data types, describe ()"
   ]
  },
  {
   "cell_type": "code",
   "execution_count": 4,
   "id": "65b08d2e",
   "metadata": {
    "execution": {
     "iopub.execute_input": "2022-11-06T20:04:21.171225Z",
     "iopub.status.busy": "2022-11-06T20:04:21.170818Z",
     "iopub.status.idle": "2022-11-06T20:04:21.199280Z",
     "shell.execute_reply": "2022-11-06T20:04:21.197754Z"
    },
    "papermill": {
     "duration": 0.052888,
     "end_time": "2022-11-06T20:04:21.202195",
     "exception": false,
     "start_time": "2022-11-06T20:04:21.149307",
     "status": "completed"
    },
    "scrolled": true,
    "tags": []
   },
   "outputs": [
    {
     "data": {
      "text/html": [
       "<div>\n",
       "<style scoped>\n",
       "    .dataframe tbody tr th:only-of-type {\n",
       "        vertical-align: middle;\n",
       "    }\n",
       "\n",
       "    .dataframe tbody tr th {\n",
       "        vertical-align: top;\n",
       "    }\n",
       "\n",
       "    .dataframe thead th {\n",
       "        text-align: right;\n",
       "    }\n",
       "</style>\n",
       "<table border=\"1\" class=\"dataframe\">\n",
       "  <thead>\n",
       "    <tr style=\"text-align: right;\">\n",
       "      <th></th>\n",
       "      <th>User_ID</th>\n",
       "      <th>Product_ID</th>\n",
       "      <th>Gender</th>\n",
       "      <th>Age</th>\n",
       "      <th>Occupation</th>\n",
       "      <th>City_Category</th>\n",
       "      <th>Stay_In_Current_City_Years</th>\n",
       "      <th>Marital_Status</th>\n",
       "      <th>Product_Category_1</th>\n",
       "      <th>Product_Category_2</th>\n",
       "      <th>Product_Category_3</th>\n",
       "      <th>Purchase</th>\n",
       "    </tr>\n",
       "  </thead>\n",
       "  <tbody>\n",
       "    <tr>\n",
       "      <th>0</th>\n",
       "      <td>1000001</td>\n",
       "      <td>P00069042</td>\n",
       "      <td>F</td>\n",
       "      <td>0-17</td>\n",
       "      <td>10</td>\n",
       "      <td>A</td>\n",
       "      <td>2</td>\n",
       "      <td>0</td>\n",
       "      <td>3</td>\n",
       "      <td>NaN</td>\n",
       "      <td>NaN</td>\n",
       "      <td>8370</td>\n",
       "    </tr>\n",
       "    <tr>\n",
       "      <th>1</th>\n",
       "      <td>1000001</td>\n",
       "      <td>P00248942</td>\n",
       "      <td>F</td>\n",
       "      <td>0-17</td>\n",
       "      <td>10</td>\n",
       "      <td>A</td>\n",
       "      <td>2</td>\n",
       "      <td>0</td>\n",
       "      <td>1</td>\n",
       "      <td>6.0</td>\n",
       "      <td>14.0</td>\n",
       "      <td>15200</td>\n",
       "    </tr>\n",
       "    <tr>\n",
       "      <th>2</th>\n",
       "      <td>1000001</td>\n",
       "      <td>P00087842</td>\n",
       "      <td>F</td>\n",
       "      <td>0-17</td>\n",
       "      <td>10</td>\n",
       "      <td>A</td>\n",
       "      <td>2</td>\n",
       "      <td>0</td>\n",
       "      <td>12</td>\n",
       "      <td>NaN</td>\n",
       "      <td>NaN</td>\n",
       "      <td>1422</td>\n",
       "    </tr>\n",
       "    <tr>\n",
       "      <th>3</th>\n",
       "      <td>1000001</td>\n",
       "      <td>P00085442</td>\n",
       "      <td>F</td>\n",
       "      <td>0-17</td>\n",
       "      <td>10</td>\n",
       "      <td>A</td>\n",
       "      <td>2</td>\n",
       "      <td>0</td>\n",
       "      <td>12</td>\n",
       "      <td>14.0</td>\n",
       "      <td>NaN</td>\n",
       "      <td>1057</td>\n",
       "    </tr>\n",
       "    <tr>\n",
       "      <th>4</th>\n",
       "      <td>1000002</td>\n",
       "      <td>P00285442</td>\n",
       "      <td>M</td>\n",
       "      <td>55+</td>\n",
       "      <td>16</td>\n",
       "      <td>C</td>\n",
       "      <td>4+</td>\n",
       "      <td>0</td>\n",
       "      <td>8</td>\n",
       "      <td>NaN</td>\n",
       "      <td>NaN</td>\n",
       "      <td>7969</td>\n",
       "    </tr>\n",
       "  </tbody>\n",
       "</table>\n",
       "</div>"
      ],
      "text/plain": [
       "   User_ID Product_ID Gender   Age  Occupation City_Category  \\\n",
       "0  1000001  P00069042      F  0-17          10             A   \n",
       "1  1000001  P00248942      F  0-17          10             A   \n",
       "2  1000001  P00087842      F  0-17          10             A   \n",
       "3  1000001  P00085442      F  0-17          10             A   \n",
       "4  1000002  P00285442      M   55+          16             C   \n",
       "\n",
       "  Stay_In_Current_City_Years  Marital_Status  Product_Category_1  \\\n",
       "0                          2               0                   3   \n",
       "1                          2               0                   1   \n",
       "2                          2               0                  12   \n",
       "3                          2               0                  12   \n",
       "4                         4+               0                   8   \n",
       "\n",
       "   Product_Category_2  Product_Category_3  Purchase  \n",
       "0                 NaN                 NaN      8370  \n",
       "1                 6.0                14.0     15200  \n",
       "2                 NaN                 NaN      1422  \n",
       "3                14.0                 NaN      1057  \n",
       "4                 NaN                 NaN      7969  "
      ]
     },
     "execution_count": 4,
     "metadata": {},
     "output_type": "execute_result"
    }
   ],
   "source": [
    "#Dataset \n",
    "df.head()"
   ]
  },
  {
   "cell_type": "code",
   "execution_count": 5,
   "id": "24c69d4d",
   "metadata": {
    "execution": {
     "iopub.execute_input": "2022-11-06T20:04:21.244361Z",
     "iopub.status.busy": "2022-11-06T20:04:21.243804Z",
     "iopub.status.idle": "2022-11-06T20:04:21.251699Z",
     "shell.execute_reply": "2022-11-06T20:04:21.250541Z"
    },
    "papermill": {
     "duration": 0.032147,
     "end_time": "2022-11-06T20:04:21.254195",
     "exception": false,
     "start_time": "2022-11-06T20:04:21.222048",
     "status": "completed"
    },
    "tags": []
   },
   "outputs": [
    {
     "data": {
      "text/plain": [
       "(550068, 12)"
      ]
     },
     "execution_count": 5,
     "metadata": {},
     "output_type": "execute_result"
    }
   ],
   "source": [
    "df.shape"
   ]
  },
  {
   "cell_type": "markdown",
   "id": "2bd89682",
   "metadata": {
    "papermill": {
     "duration": 0.019332,
     "end_time": "2022-11-06T20:04:21.293280",
     "exception": false,
     "start_time": "2022-11-06T20:04:21.273948",
     "status": "completed"
    },
    "tags": []
   },
   "source": [
    "The Dataset contains 550068 rows and 12 columns"
   ]
  },
  {
   "cell_type": "code",
   "execution_count": 6,
   "id": "2db2cd2f",
   "metadata": {
    "execution": {
     "iopub.execute_input": "2022-11-06T20:04:21.334876Z",
     "iopub.status.busy": "2022-11-06T20:04:21.334384Z",
     "iopub.status.idle": "2022-11-06T20:04:21.485468Z",
     "shell.execute_reply": "2022-11-06T20:04:21.483642Z"
    },
    "papermill": {
     "duration": 0.175652,
     "end_time": "2022-11-06T20:04:21.488661",
     "exception": false,
     "start_time": "2022-11-06T20:04:21.313009",
     "status": "completed"
    },
    "tags": []
   },
   "outputs": [
    {
     "name": "stdout",
     "output_type": "stream",
     "text": [
      "<class 'pandas.core.frame.DataFrame'>\n",
      "RangeIndex: 550068 entries, 0 to 550067\n",
      "Data columns (total 12 columns):\n",
      " #   Column                      Non-Null Count   Dtype  \n",
      "---  ------                      --------------   -----  \n",
      " 0   User_ID                     550068 non-null  int64  \n",
      " 1   Product_ID                  550068 non-null  object \n",
      " 2   Gender                      550068 non-null  object \n",
      " 3   Age                         550068 non-null  object \n",
      " 4   Occupation                  550068 non-null  int64  \n",
      " 5   City_Category               550068 non-null  object \n",
      " 6   Stay_In_Current_City_Years  550068 non-null  object \n",
      " 7   Marital_Status              550068 non-null  int64  \n",
      " 8   Product_Category_1          550068 non-null  int64  \n",
      " 9   Product_Category_2          376430 non-null  float64\n",
      " 10  Product_Category_3          166821 non-null  float64\n",
      " 11  Purchase                    550068 non-null  int64  \n",
      "dtypes: float64(2), int64(5), object(5)\n",
      "memory usage: 50.4+ MB\n"
     ]
    }
   ],
   "source": [
    "df.info()"
   ]
  },
  {
   "cell_type": "code",
   "execution_count": null,
   "id": "48f418b3",
   "metadata": {},
   "outputs": [],
   "source": [
    "### Correctly mapped with data types"
   ]
  },
  {
   "cell_type": "code",
   "execution_count": 7,
   "id": "a5267b5c",
   "metadata": {
    "execution": {
     "iopub.execute_input": "2022-11-06T20:04:21.532930Z",
     "iopub.status.busy": "2022-11-06T20:04:21.531260Z",
     "iopub.status.idle": "2022-11-06T20:04:21.732605Z",
     "shell.execute_reply": "2022-11-06T20:04:21.731535Z"
    },
    "papermill": {
     "duration": 0.225828,
     "end_time": "2022-11-06T20:04:21.734952",
     "exception": false,
     "start_time": "2022-11-06T20:04:21.509124",
     "status": "completed"
    },
    "tags": []
   },
   "outputs": [
    {
     "data": {
      "text/html": [
       "<div>\n",
       "<style scoped>\n",
       "    .dataframe tbody tr th:only-of-type {\n",
       "        vertical-align: middle;\n",
       "    }\n",
       "\n",
       "    .dataframe tbody tr th {\n",
       "        vertical-align: top;\n",
       "    }\n",
       "\n",
       "    .dataframe thead th {\n",
       "        text-align: right;\n",
       "    }\n",
       "</style>\n",
       "<table border=\"1\" class=\"dataframe\">\n",
       "  <thead>\n",
       "    <tr style=\"text-align: right;\">\n",
       "      <th></th>\n",
       "      <th>User_ID</th>\n",
       "      <th>Occupation</th>\n",
       "      <th>Marital_Status</th>\n",
       "      <th>Product_Category_1</th>\n",
       "      <th>Product_Category_2</th>\n",
       "      <th>Product_Category_3</th>\n",
       "      <th>Purchase</th>\n",
       "    </tr>\n",
       "  </thead>\n",
       "  <tbody>\n",
       "    <tr>\n",
       "      <th>count</th>\n",
       "      <td>5.500680e+05</td>\n",
       "      <td>550068.000000</td>\n",
       "      <td>550068.000000</td>\n",
       "      <td>550068.000000</td>\n",
       "      <td>376430.000000</td>\n",
       "      <td>166821.000000</td>\n",
       "      <td>550068.000000</td>\n",
       "    </tr>\n",
       "    <tr>\n",
       "      <th>mean</th>\n",
       "      <td>1.003029e+06</td>\n",
       "      <td>8.076707</td>\n",
       "      <td>0.409653</td>\n",
       "      <td>5.404270</td>\n",
       "      <td>9.842329</td>\n",
       "      <td>12.668243</td>\n",
       "      <td>9263.968713</td>\n",
       "    </tr>\n",
       "    <tr>\n",
       "      <th>std</th>\n",
       "      <td>1.727592e+03</td>\n",
       "      <td>6.522660</td>\n",
       "      <td>0.491770</td>\n",
       "      <td>3.936211</td>\n",
       "      <td>5.086590</td>\n",
       "      <td>4.125338</td>\n",
       "      <td>5023.065394</td>\n",
       "    </tr>\n",
       "    <tr>\n",
       "      <th>min</th>\n",
       "      <td>1.000001e+06</td>\n",
       "      <td>0.000000</td>\n",
       "      <td>0.000000</td>\n",
       "      <td>1.000000</td>\n",
       "      <td>2.000000</td>\n",
       "      <td>3.000000</td>\n",
       "      <td>12.000000</td>\n",
       "    </tr>\n",
       "    <tr>\n",
       "      <th>25%</th>\n",
       "      <td>1.001516e+06</td>\n",
       "      <td>2.000000</td>\n",
       "      <td>0.000000</td>\n",
       "      <td>1.000000</td>\n",
       "      <td>5.000000</td>\n",
       "      <td>9.000000</td>\n",
       "      <td>5823.000000</td>\n",
       "    </tr>\n",
       "    <tr>\n",
       "      <th>50%</th>\n",
       "      <td>1.003077e+06</td>\n",
       "      <td>7.000000</td>\n",
       "      <td>0.000000</td>\n",
       "      <td>5.000000</td>\n",
       "      <td>9.000000</td>\n",
       "      <td>14.000000</td>\n",
       "      <td>8047.000000</td>\n",
       "    </tr>\n",
       "    <tr>\n",
       "      <th>75%</th>\n",
       "      <td>1.004478e+06</td>\n",
       "      <td>14.000000</td>\n",
       "      <td>1.000000</td>\n",
       "      <td>8.000000</td>\n",
       "      <td>15.000000</td>\n",
       "      <td>16.000000</td>\n",
       "      <td>12054.000000</td>\n",
       "    </tr>\n",
       "    <tr>\n",
       "      <th>max</th>\n",
       "      <td>1.006040e+06</td>\n",
       "      <td>20.000000</td>\n",
       "      <td>1.000000</td>\n",
       "      <td>20.000000</td>\n",
       "      <td>18.000000</td>\n",
       "      <td>18.000000</td>\n",
       "      <td>23961.000000</td>\n",
       "    </tr>\n",
       "  </tbody>\n",
       "</table>\n",
       "</div>"
      ],
      "text/plain": [
       "            User_ID     Occupation  Marital_Status  Product_Category_1  \\\n",
       "count  5.500680e+05  550068.000000   550068.000000       550068.000000   \n",
       "mean   1.003029e+06       8.076707        0.409653            5.404270   \n",
       "std    1.727592e+03       6.522660        0.491770            3.936211   \n",
       "min    1.000001e+06       0.000000        0.000000            1.000000   \n",
       "25%    1.001516e+06       2.000000        0.000000            1.000000   \n",
       "50%    1.003077e+06       7.000000        0.000000            5.000000   \n",
       "75%    1.004478e+06      14.000000        1.000000            8.000000   \n",
       "max    1.006040e+06      20.000000        1.000000           20.000000   \n",
       "\n",
       "       Product_Category_2  Product_Category_3       Purchase  \n",
       "count       376430.000000       166821.000000  550068.000000  \n",
       "mean             9.842329           12.668243    9263.968713  \n",
       "std              5.086590            4.125338    5023.065394  \n",
       "min              2.000000            3.000000      12.000000  \n",
       "25%              5.000000            9.000000    5823.000000  \n",
       "50%              9.000000           14.000000    8047.000000  \n",
       "75%             15.000000           16.000000   12054.000000  \n",
       "max             18.000000           18.000000   23961.000000  "
      ]
     },
     "execution_count": 7,
     "metadata": {},
     "output_type": "execute_result"
    }
   ],
   "source": [
    "#Statistical Measures\n",
    "## Few measures at one go\n",
    "df.describe()"
   ]
  },
  {
   "cell_type": "markdown",
   "id": "09361bd3",
   "metadata": {
    "papermill": {
     "duration": 0.019971,
     "end_time": "2022-11-06T20:04:21.775859",
     "exception": false,
     "start_time": "2022-11-06T20:04:21.755888",
     "status": "completed"
    },
    "tags": []
   },
   "source": [
    "**Insights**\n",
    "* The average occupation number is 8\n",
    "* The maximum occupation number is 20\n",
    "* The average of the Purchase is 9263.96\n",
    "* The maximum purchase is 23961.00"
   ]
  },
  {
   "cell_type": "code",
   "execution_count": 8,
   "id": "04c9785d",
   "metadata": {
    "execution": {
     "iopub.execute_input": "2022-11-06T20:04:21.818948Z",
     "iopub.status.busy": "2022-11-06T20:04:21.818190Z",
     "iopub.status.idle": "2022-11-06T20:04:22.258371Z",
     "shell.execute_reply": "2022-11-06T20:04:22.256994Z"
    },
    "papermill": {
     "duration": 0.465419,
     "end_time": "2022-11-06T20:04:22.261317",
     "exception": false,
     "start_time": "2022-11-06T20:04:21.795898",
     "status": "completed"
    },
    "tags": []
   },
   "outputs": [
    {
     "data": {
      "text/plain": [
       "0"
      ]
     },
     "execution_count": 8,
     "metadata": {},
     "output_type": "execute_result"
    }
   ],
   "source": [
    "#Checking the Duplicate rows in the Dataset\n",
    "df.duplicated().sum()"
   ]
  },
  {
   "cell_type": "markdown",
   "id": "281cb334",
   "metadata": {
    "papermill": {
     "duration": 0.019991,
     "end_time": "2022-11-06T20:04:22.302190",
     "exception": false,
     "start_time": "2022-11-06T20:04:22.282199",
     "status": "completed"
    },
    "tags": []
   },
   "source": [
    "There are no Duplicated Values"
   ]
  },
  {
   "cell_type": "markdown",
   "id": "be332a80",
   "metadata": {
    "papermill": {
     "duration": 0.019859,
     "end_time": "2022-11-06T20:04:22.342831",
     "exception": false,
     "start_time": "2022-11-06T20:04:22.322972",
     "status": "completed"
    },
    "tags": []
   },
   "source": [
    "# EDA"
   ]
  },
  {
   "cell_type": "code",
   "execution_count": null,
   "id": "7793d145",
   "metadata": {},
   "outputs": [],
   "source": [
    "## Univariate , Bivariate"
   ]
  },
  {
   "cell_type": "code",
   "execution_count": 9,
   "id": "9cc2447f",
   "metadata": {},
   "outputs": [
    {
     "data": {
      "text/html": [
       "<div>\n",
       "<style scoped>\n",
       "    .dataframe tbody tr th:only-of-type {\n",
       "        vertical-align: middle;\n",
       "    }\n",
       "\n",
       "    .dataframe tbody tr th {\n",
       "        vertical-align: top;\n",
       "    }\n",
       "\n",
       "    .dataframe thead th {\n",
       "        text-align: right;\n",
       "    }\n",
       "</style>\n",
       "<table border=\"1\" class=\"dataframe\">\n",
       "  <thead>\n",
       "    <tr style=\"text-align: right;\">\n",
       "      <th></th>\n",
       "      <th>User_ID</th>\n",
       "      <th>Product_ID</th>\n",
       "      <th>Gender</th>\n",
       "      <th>Age</th>\n",
       "      <th>Occupation</th>\n",
       "      <th>City_Category</th>\n",
       "      <th>Stay_In_Current_City_Years</th>\n",
       "      <th>Marital_Status</th>\n",
       "      <th>Product_Category_1</th>\n",
       "      <th>Product_Category_2</th>\n",
       "      <th>Product_Category_3</th>\n",
       "      <th>Purchase</th>\n",
       "    </tr>\n",
       "  </thead>\n",
       "  <tbody>\n",
       "    <tr>\n",
       "      <th>0</th>\n",
       "      <td>1000001</td>\n",
       "      <td>P00069042</td>\n",
       "      <td>F</td>\n",
       "      <td>0-17</td>\n",
       "      <td>10</td>\n",
       "      <td>A</td>\n",
       "      <td>2</td>\n",
       "      <td>0</td>\n",
       "      <td>3</td>\n",
       "      <td>NaN</td>\n",
       "      <td>NaN</td>\n",
       "      <td>8370</td>\n",
       "    </tr>\n",
       "    <tr>\n",
       "      <th>1</th>\n",
       "      <td>1000001</td>\n",
       "      <td>P00248942</td>\n",
       "      <td>F</td>\n",
       "      <td>0-17</td>\n",
       "      <td>10</td>\n",
       "      <td>A</td>\n",
       "      <td>2</td>\n",
       "      <td>0</td>\n",
       "      <td>1</td>\n",
       "      <td>6.0</td>\n",
       "      <td>14.0</td>\n",
       "      <td>15200</td>\n",
       "    </tr>\n",
       "    <tr>\n",
       "      <th>2</th>\n",
       "      <td>1000001</td>\n",
       "      <td>P00087842</td>\n",
       "      <td>F</td>\n",
       "      <td>0-17</td>\n",
       "      <td>10</td>\n",
       "      <td>A</td>\n",
       "      <td>2</td>\n",
       "      <td>0</td>\n",
       "      <td>12</td>\n",
       "      <td>NaN</td>\n",
       "      <td>NaN</td>\n",
       "      <td>1422</td>\n",
       "    </tr>\n",
       "    <tr>\n",
       "      <th>3</th>\n",
       "      <td>1000001</td>\n",
       "      <td>P00085442</td>\n",
       "      <td>F</td>\n",
       "      <td>0-17</td>\n",
       "      <td>10</td>\n",
       "      <td>A</td>\n",
       "      <td>2</td>\n",
       "      <td>0</td>\n",
       "      <td>12</td>\n",
       "      <td>14.0</td>\n",
       "      <td>NaN</td>\n",
       "      <td>1057</td>\n",
       "    </tr>\n",
       "    <tr>\n",
       "      <th>4</th>\n",
       "      <td>1000002</td>\n",
       "      <td>P00285442</td>\n",
       "      <td>M</td>\n",
       "      <td>55+</td>\n",
       "      <td>16</td>\n",
       "      <td>C</td>\n",
       "      <td>4+</td>\n",
       "      <td>0</td>\n",
       "      <td>8</td>\n",
       "      <td>NaN</td>\n",
       "      <td>NaN</td>\n",
       "      <td>7969</td>\n",
       "    </tr>\n",
       "  </tbody>\n",
       "</table>\n",
       "</div>"
      ],
      "text/plain": [
       "   User_ID Product_ID Gender   Age  Occupation City_Category  \\\n",
       "0  1000001  P00069042      F  0-17          10             A   \n",
       "1  1000001  P00248942      F  0-17          10             A   \n",
       "2  1000001  P00087842      F  0-17          10             A   \n",
       "3  1000001  P00085442      F  0-17          10             A   \n",
       "4  1000002  P00285442      M   55+          16             C   \n",
       "\n",
       "  Stay_In_Current_City_Years  Marital_Status  Product_Category_1  \\\n",
       "0                          2               0                   3   \n",
       "1                          2               0                   1   \n",
       "2                          2               0                  12   \n",
       "3                          2               0                  12   \n",
       "4                         4+               0                   8   \n",
       "\n",
       "   Product_Category_2  Product_Category_3  Purchase  \n",
       "0                 NaN                 NaN      8370  \n",
       "1                 6.0                14.0     15200  \n",
       "2                 NaN                 NaN      1422  \n",
       "3                14.0                 NaN      1057  \n",
       "4                 NaN                 NaN      7969  "
      ]
     },
     "execution_count": 9,
     "metadata": {},
     "output_type": "execute_result"
    }
   ],
   "source": [
    "df.head()"
   ]
  },
  {
   "cell_type": "code",
   "execution_count": null,
   "id": "b23cc5fa",
   "metadata": {},
   "outputs": [],
   "source": []
  },
  {
   "cell_type": "code",
   "execution_count": null,
   "id": "9988b98f",
   "metadata": {},
   "outputs": [],
   "source": []
  },
  {
   "cell_type": "code",
   "execution_count": 10,
   "id": "d1f9b878",
   "metadata": {
    "execution": {
     "iopub.execute_input": "2022-11-06T20:04:22.385540Z",
     "iopub.status.busy": "2022-11-06T20:04:22.385112Z",
     "iopub.status.idle": "2022-11-06T20:04:22.421028Z",
     "shell.execute_reply": "2022-11-06T20:04:22.419808Z"
    },
    "papermill": {
     "duration": 0.061001,
     "end_time": "2022-11-06T20:04:22.423996",
     "exception": false,
     "start_time": "2022-11-06T20:04:22.362995",
     "status": "completed"
    },
    "tags": []
   },
   "outputs": [
    {
     "data": {
      "text/plain": [
       "M    414259\n",
       "F    135809\n",
       "Name: Gender, dtype: int64"
      ]
     },
     "execution_count": 10,
     "metadata": {},
     "output_type": "execute_result"
    }
   ],
   "source": [
    "#Analyzing the Gender Column\n",
    "df['Gender'].value_counts()"
   ]
  },
  {
   "cell_type": "code",
   "execution_count": 13,
   "id": "80aa0620",
   "metadata": {
    "execution": {
     "iopub.execute_input": "2022-11-06T20:04:22.467875Z",
     "iopub.status.busy": "2022-11-06T20:04:22.467369Z",
     "iopub.status.idle": "2022-11-06T20:04:22.687123Z",
     "shell.execute_reply": "2022-11-06T20:04:22.685328Z"
    },
    "papermill": {
     "duration": 0.247113,
     "end_time": "2022-11-06T20:04:22.692114",
     "exception": false,
     "start_time": "2022-11-06T20:04:22.445001",
     "status": "completed"
    },
    "scrolled": true,
    "tags": []
   },
   "outputs": [
    {
     "data": {
      "image/png": "[encoded data removed]",
      "text/plain": [
       "<Figure size 504x360 with 1 Axes>"
      ]
     },
     "metadata": {},
     "output_type": "display_data"
    }
   ],
   "source": [
    "#Visualizing the Gender Column\n",
    "plt.figure(figsize=(7,5))\n",
    "plt.pie(df['Gender'].value_counts(),\n",
    "       labels=['Male(M)','Female(F)'],\n",
    "        autopct=' %0.2f%%',shadow=True,\n",
    "        explode=(0,0.1),colors=['#ff9999','#66b3ff'])\n",
    "plt.show()"
   ]
  },
  {
   "cell_type": "markdown",
   "id": "c30ff48e",
   "metadata": {
    "papermill": {
     "duration": 0.021314,
     "end_time": "2022-11-06T20:04:22.763540",
     "exception": false,
     "start_time": "2022-11-06T20:04:22.742226",
     "status": "completed"
    },
    "tags": []
   },
   "source": [
    "**Insights**\n",
    "* The Percentage of Female is 1/3 of the Total Population."
   ]
  },
  {
   "cell_type": "code",
   "execution_count": 14,
   "id": "e9866823",
   "metadata": {
    "execution": {
     "iopub.execute_input": "2022-11-06T20:04:22.809332Z",
     "iopub.status.busy": "2022-11-06T20:04:22.808283Z",
     "iopub.status.idle": "2022-11-06T20:04:22.850559Z",
     "shell.execute_reply": "2022-11-06T20:04:22.849298Z"
    },
    "papermill": {
     "duration": 0.067895,
     "end_time": "2022-11-06T20:04:22.853215",
     "exception": false,
     "start_time": "2022-11-06T20:04:22.785320",
     "status": "completed"
    },
    "tags": []
   },
   "outputs": [
    {
     "data": {
      "text/plain": [
       "26-35    219587\n",
       "36-45    110013\n",
       "18-25     99660\n",
       "46-50     45701\n",
       "51-55     38501\n",
       "55+       21504\n",
       "0-17      15102\n",
       "Name: Age, dtype: int64"
      ]
     },
     "execution_count": 14,
     "metadata": {},
     "output_type": "execute_result"
    }
   ],
   "source": [
    "#Analyzing the Age Feature\n",
    "df['Age'].value_counts()"
   ]
  },
  {
   "cell_type": "code",
   "execution_count": 17,
   "id": "4770f975",
   "metadata": {},
   "outputs": [
    {
     "data": {
      "image/png": "[encoded data removed]",
      "text/plain": [
       "<Figure size 432x288 with 1 Axes>"
      ]
     },
     "metadata": {},
     "output_type": "display_data"
    }
   ],
   "source": [
    "plt.pie(df['Age'].value_counts(),\n",
    "       labels=['26-35','36-45','18-25','46-50','51-55','55+','0-17'],\n",
    "        autopct=' %0.2f%%',shadow=True,\n",
    "        colors=['#ff9999','#66b3ff'])\n",
    "plt.show()"
   ]
  },
  {
   "cell_type": "code",
   "execution_count": 18,
   "id": "799f8b8c",
   "metadata": {
    "execution": {
     "iopub.execute_input": "2022-11-06T20:04:22.899773Z",
     "iopub.status.busy": "2022-11-06T20:04:22.899314Z",
     "iopub.status.idle": "2022-11-06T20:04:23.444074Z",
     "shell.execute_reply": "2022-11-06T20:04:23.442501Z"
    },
    "papermill": {
     "duration": 0.572588,
     "end_time": "2022-11-06T20:04:23.447676",
     "exception": false,
     "start_time": "2022-11-06T20:04:22.875088",
     "status": "completed"
    },
    "tags": []
   },
   "outputs": [
    {
     "data": {
      "image/png": "[encoded data removed]",
      "text/plain": [
       "<Figure size 504x360 with 1 Axes>"
      ]
     },
     "metadata": {
      "needs_background": "light"
     },
     "output_type": "display_data"
    }
   ],
   "source": [
    "plt.figure(figsize=(7,5))\n",
    "sns.countplot(df['Age'])\n",
    "plt.show()"
   ]
  },
  {
   "cell_type": "markdown",
   "id": "bb338ffb",
   "metadata": {
    "papermill": {
     "duration": 0.022046,
     "end_time": "2022-11-06T20:04:23.491862",
     "exception": false,
     "start_time": "2022-11-06T20:04:23.469816",
     "status": "completed"
    },
    "tags": []
   },
   "source": [
    "**Insights**\n",
    "* The Age between 26-50 are largest in numbers in the Dataset.\n",
    "* The people of Age Group 0-17 and 55+ are lowest in the Dataset."
   ]
  },
  {
   "cell_type": "code",
   "execution_count": 19,
   "id": "f8ca6c57",
   "metadata": {
    "execution": {
     "iopub.execute_input": "2022-11-06T20:04:23.537847Z",
     "iopub.status.busy": "2022-11-06T20:04:23.536525Z",
     "iopub.status.idle": "2022-11-06T20:04:23.554057Z",
     "shell.execute_reply": "2022-11-06T20:04:23.552797Z"
    },
    "papermill": {
     "duration": 0.04316,
     "end_time": "2022-11-06T20:04:23.556603",
     "exception": false,
     "start_time": "2022-11-06T20:04:23.513443",
     "status": "completed"
    },
    "tags": []
   },
   "outputs": [
    {
     "data": {
      "text/plain": [
       "0     69638\n",
       "1     47426\n",
       "2     26588\n",
       "3     17650\n",
       "4     72308\n",
       "5     12177\n",
       "6     20355\n",
       "7     59133\n",
       "8      1546\n",
       "9      6291\n",
       "10    12930\n",
       "11    11586\n",
       "12    31179\n",
       "13     7728\n",
       "14    27309\n",
       "15    12165\n",
       "16    25371\n",
       "17    40043\n",
       "18     6622\n",
       "19     8461\n",
       "20    33562\n",
       "Name: Occupation, dtype: int64"
      ]
     },
     "execution_count": 19,
     "metadata": {},
     "output_type": "execute_result"
    }
   ],
   "source": [
    "#Analyzing the Occupation Feature\n",
    "df['Occupation'].value_counts().sort_index()"
   ]
  },
  {
   "cell_type": "code",
   "execution_count": 20,
   "id": "e1407340",
   "metadata": {
    "execution": {
     "iopub.execute_input": "2022-11-06T20:04:23.602504Z",
     "iopub.status.busy": "2022-11-06T20:04:23.601268Z",
     "iopub.status.idle": "2022-11-06T20:04:23.966646Z",
     "shell.execute_reply": "2022-11-06T20:04:23.965356Z"
    },
    "papermill": {
     "duration": 0.391647,
     "end_time": "2022-11-06T20:04:23.969843",
     "exception": false,
     "start_time": "2022-11-06T20:04:23.578196",
     "status": "completed"
    },
    "tags": []
   },
   "outputs": [
    {
     "data": {
      "image/png": "[encoded data removed]",
      "text/plain": [
       "<Figure size 504x360 with 1 Axes>"
      ]
     },
     "metadata": {
      "needs_background": "light"
     },
     "output_type": "display_data"
    }
   ],
   "source": [
    "plt.figure(figsize=(7,5))\n",
    "sns.countplot(df['Occupation'],order=df['Occupation'].value_counts().index)\n",
    "plt.show()"
   ]
  },
  {
   "cell_type": "markdown",
   "id": "b67603e5",
   "metadata": {
    "papermill": {
     "duration": 0.022204,
     "end_time": "2022-11-06T20:04:24.013544",
     "exception": false,
     "start_time": "2022-11-06T20:04:23.991340",
     "status": "completed"
    },
    "tags": []
   },
   "source": [
    "**Insights**\n",
    "* The People having 8 occupation code are lowest in numbers."
   ]
  },
  {
   "cell_type": "code",
   "execution_count": 21,
   "id": "c8f6f874",
   "metadata": {
    "execution": {
     "iopub.execute_input": "2022-11-06T20:04:24.059234Z",
     "iopub.status.busy": "2022-11-06T20:04:24.058690Z",
     "iopub.status.idle": "2022-11-06T20:04:24.073551Z",
     "shell.execute_reply": "2022-11-06T20:04:24.072260Z"
    },
    "papermill": {
     "duration": 0.041,
     "end_time": "2022-11-06T20:04:24.076104",
     "exception": false,
     "start_time": "2022-11-06T20:04:24.035104",
     "status": "completed"
    },
    "tags": []
   },
   "outputs": [
    {
     "data": {
      "text/plain": [
       "0    324731\n",
       "1    225337\n",
       "Name: Marital_Status, dtype: int64"
      ]
     },
     "execution_count": 21,
     "metadata": {},
     "output_type": "execute_result"
    }
   ],
   "source": [
    "#Analyzing the Martial_Status\n",
    "df['Marital_Status'].value_counts()"
   ]
  },
  {
   "cell_type": "code",
   "execution_count": 22,
   "id": "61fc1342",
   "metadata": {
    "execution": {
     "iopub.execute_input": "2022-11-06T20:04:24.121201Z",
     "iopub.status.busy": "2022-11-06T20:04:24.120652Z",
     "iopub.status.idle": "2022-11-06T20:04:24.354896Z",
     "shell.execute_reply": "2022-11-06T20:04:24.353871Z"
    },
    "papermill": {
     "duration": 0.259725,
     "end_time": "2022-11-06T20:04:24.357303",
     "exception": false,
     "start_time": "2022-11-06T20:04:24.097578",
     "status": "completed"
    },
    "tags": []
   },
   "outputs": [
    {
     "data": {
      "image/png": "[encoded data removed]",
      "text/plain": [
       "<Figure size 504x360 with 1 Axes>"
      ]
     },
     "metadata": {
      "needs_background": "light"
     },
     "output_type": "display_data"
    }
   ],
   "source": [
    "plt.figure(figsize=(7,5))\n",
    "sns.countplot(df['Marital_Status'])\n",
    "plt.show()"
   ]
  },
  {
   "cell_type": "markdown",
   "id": "8330908b",
   "metadata": {
    "papermill": {
     "duration": 0.021666,
     "end_time": "2022-11-06T20:04:24.400437",
     "exception": false,
     "start_time": "2022-11-06T20:04:24.378771",
     "status": "completed"
    },
    "tags": []
   },
   "source": [
    "* The People having no Marital_Status are more than of having Marital_Status People."
   ]
  },
  {
   "cell_type": "code",
   "execution_count": 23,
   "id": "825141c8",
   "metadata": {
    "execution": {
     "iopub.execute_input": "2022-11-06T20:04:24.446508Z",
     "iopub.status.busy": "2022-11-06T20:04:24.445603Z",
     "iopub.status.idle": "2022-11-06T20:04:24.459633Z",
     "shell.execute_reply": "2022-11-06T20:04:24.458692Z"
    },
    "papermill": {
     "duration": 0.039719,
     "end_time": "2022-11-06T20:04:24.461866",
     "exception": false,
     "start_time": "2022-11-06T20:04:24.422147",
     "status": "completed"
    },
    "tags": []
   },
   "outputs": [
    {
     "data": {
      "text/plain": [
       "1     140378\n",
       "2      23864\n",
       "3      20213\n",
       "4      11753\n",
       "5     150933\n",
       "6      20466\n",
       "7       3721\n",
       "8     113925\n",
       "9        410\n",
       "10      5125\n",
       "11     24287\n",
       "12      3947\n",
       "13      5549\n",
       "14      1523\n",
       "15      6290\n",
       "16      9828\n",
       "17       578\n",
       "18      3125\n",
       "19      1603\n",
       "20      2550\n",
       "Name: Product_Category_1, dtype: int64"
      ]
     },
     "execution_count": 23,
     "metadata": {},
     "output_type": "execute_result"
    }
   ],
   "source": [
    "#Analyzing the Product_Category_1\n",
    "df['Product_Category_1'].value_counts().sort_index()"
   ]
  },
  {
   "cell_type": "code",
   "execution_count": 24,
   "id": "b690efe6",
   "metadata": {
    "execution": {
     "iopub.execute_input": "2022-11-06T20:04:24.509430Z",
     "iopub.status.busy": "2022-11-06T20:04:24.508485Z",
     "iopub.status.idle": "2022-11-06T20:04:24.843704Z",
     "shell.execute_reply": "2022-11-06T20:04:24.842130Z"
    },
    "papermill": {
     "duration": 0.361971,
     "end_time": "2022-11-06T20:04:24.846325",
     "exception": false,
     "start_time": "2022-11-06T20:04:24.484354",
     "status": "completed"
    },
    "tags": []
   },
   "outputs": [
    {
     "data": {
      "image/png": "[encoded data removed]",
      "text/plain": [
       "<Figure size 504x360 with 1 Axes>"
      ]
     },
     "metadata": {
      "needs_background": "light"
     },
     "output_type": "display_data"
    }
   ],
   "source": [
    "plt.figure(figsize=(7,5))\n",
    "sns.countplot(df['Product_Category_1'],order=df['Product_Category_1'].value_counts().index)\n",
    "plt.show()"
   ]
  },
  {
   "cell_type": "code",
   "execution_count": 25,
   "id": "7eebfd6b",
   "metadata": {
    "execution": {
     "iopub.execute_input": "2022-11-06T20:04:24.893555Z",
     "iopub.status.busy": "2022-11-06T20:04:24.893168Z",
     "iopub.status.idle": "2022-11-06T20:04:24.914081Z",
     "shell.execute_reply": "2022-11-06T20:04:24.912674Z"
    },
    "papermill": {
     "duration": 0.04758,
     "end_time": "2022-11-06T20:04:24.916768",
     "exception": false,
     "start_time": "2022-11-06T20:04:24.869188",
     "status": "completed"
    },
    "tags": []
   },
   "outputs": [
    {
     "data": {
      "text/plain": [
       "2.0     49217\n",
       "3.0      2884\n",
       "4.0     25677\n",
       "5.0     26235\n",
       "6.0     16466\n",
       "7.0       626\n",
       "8.0     64088\n",
       "9.0      5693\n",
       "10.0     3043\n",
       "11.0    14134\n",
       "12.0     5528\n",
       "13.0    10531\n",
       "14.0    55108\n",
       "15.0    37855\n",
       "16.0    43255\n",
       "17.0    13320\n",
       "18.0     2770\n",
       "Name: Product_Category_2, dtype: int64"
      ]
     },
     "execution_count": 25,
     "metadata": {},
     "output_type": "execute_result"
    }
   ],
   "source": [
    "#Analyzing the Product_Category_2\n",
    "df['Product_Category_2'].value_counts().sort_index()"
   ]
  },
  {
   "cell_type": "code",
   "execution_count": 26,
   "id": "6a80f9b1",
   "metadata": {
    "execution": {
     "iopub.execute_input": "2022-11-06T20:04:24.964366Z",
     "iopub.status.busy": "2022-11-06T20:04:24.963965Z",
     "iopub.status.idle": "2022-11-06T20:04:25.291467Z",
     "shell.execute_reply": "2022-11-06T20:04:25.290014Z"
    },
    "papermill": {
     "duration": 0.354739,
     "end_time": "2022-11-06T20:04:25.294340",
     "exception": false,
     "start_time": "2022-11-06T20:04:24.939601",
     "status": "completed"
    },
    "tags": []
   },
   "outputs": [
    {
     "data": {
      "image/png": "[encoded data removed]",
      "text/plain": [
       "<Figure size 504x360 with 1 Axes>"
      ]
     },
     "metadata": {
      "needs_background": "light"
     },
     "output_type": "display_data"
    }
   ],
   "source": [
    "plt.figure(figsize=(7,5))\n",
    "sns.countplot(df['Product_Category_2'],order=df['Product_Category_2'].value_counts().index)\n",
    "plt.show()"
   ]
  },
  {
   "cell_type": "code",
   "execution_count": 27,
   "id": "2b64627d",
   "metadata": {
    "execution": {
     "iopub.execute_input": "2022-11-06T20:04:25.342169Z",
     "iopub.status.busy": "2022-11-06T20:04:25.341775Z",
     "iopub.status.idle": "2022-11-06T20:04:25.358500Z",
     "shell.execute_reply": "2022-11-06T20:04:25.357127Z"
    },
    "papermill": {
     "duration": 0.043693,
     "end_time": "2022-11-06T20:04:25.361005",
     "exception": false,
     "start_time": "2022-11-06T20:04:25.317312",
     "status": "completed"
    },
    "tags": []
   },
   "outputs": [
    {
     "data": {
      "text/plain": [
       "3.0       613\n",
       "4.0      1875\n",
       "5.0     16658\n",
       "6.0      4890\n",
       "8.0     12562\n",
       "9.0     11579\n",
       "10.0     1726\n",
       "11.0     1805\n",
       "12.0     9246\n",
       "13.0     5459\n",
       "14.0    18428\n",
       "15.0    28013\n",
       "16.0    32636\n",
       "17.0    16702\n",
       "18.0     4629\n",
       "Name: Product_Category_3, dtype: int64"
      ]
     },
     "execution_count": 27,
     "metadata": {},
     "output_type": "execute_result"
    }
   ],
   "source": [
    "#Analyzing the Product_Category_3\n",
    "df['Product_Category_3'].value_counts().sort_index()"
   ]
  },
  {
   "cell_type": "code",
   "execution_count": 28,
   "id": "fcb7fff8",
   "metadata": {
    "execution": {
     "iopub.execute_input": "2022-11-06T20:04:25.409841Z",
     "iopub.status.busy": "2022-11-06T20:04:25.409114Z",
     "iopub.status.idle": "2022-11-06T20:04:25.654696Z",
     "shell.execute_reply": "2022-11-06T20:04:25.653359Z"
    },
    "papermill": {
     "duration": 0.272976,
     "end_time": "2022-11-06T20:04:25.657302",
     "exception": false,
     "start_time": "2022-11-06T20:04:25.384326",
     "status": "completed"
    },
    "tags": []
   },
   "outputs": [
    {
     "data": {
      "image/png": "[encoded data removed]",
      "text/plain": [
       "<Figure size 504x360 with 1 Axes>"
      ]
     },
     "metadata": {
      "needs_background": "light"
     },
     "output_type": "display_data"
    }
   ],
   "source": [
    "plt.figure(figsize=(7,5))\n",
    "sns.countplot(df['Product_Category_3'],order=df['Product_Category_3'].value_counts().index)\n",
    "plt.show()"
   ]
  },
  {
   "cell_type": "code",
   "execution_count": null,
   "id": "0c572273",
   "metadata": {},
   "outputs": [],
   "source": []
  },
  {
   "cell_type": "code",
   "execution_count": null,
   "id": "827b722d",
   "metadata": {
    "execution": {
     "iopub.execute_input": "2022-11-06T20:04:25.705397Z",
     "iopub.status.busy": "2022-11-06T20:04:25.704989Z",
     "iopub.status.idle": "2022-11-06T20:04:25.738851Z",
     "shell.execute_reply": "2022-11-06T20:04:25.737560Z"
    },
    "papermill": {
     "duration": 0.060535,
     "end_time": "2022-11-06T20:04:25.741395",
     "exception": false,
     "start_time": "2022-11-06T20:04:25.680860",
     "status": "completed"
    },
    "tags": []
   },
   "outputs": [],
   "source": [
    "#Analyzing the Purchase Column\n",
    "df['Purchase'].describe()"
   ]
  },
  {
   "cell_type": "code",
   "execution_count": 29,
   "id": "2e482424",
   "metadata": {
    "execution": {
     "iopub.execute_input": "2022-11-06T20:04:25.789398Z",
     "iopub.status.busy": "2022-11-06T20:04:25.788936Z",
     "iopub.status.idle": "2022-11-06T20:04:28.594292Z",
     "shell.execute_reply": "2022-11-06T20:04:28.592943Z"
    },
    "papermill": {
     "duration": 2.833586,
     "end_time": "2022-11-06T20:04:28.597531",
     "exception": false,
     "start_time": "2022-11-06T20:04:25.763945",
     "status": "completed"
    },
    "tags": []
   },
   "outputs": [
    {
     "data": {
      "image/png": "[encoded data removed]",
      "text/plain": [
       "<Figure size 720x504 with 1 Axes>"
      ]
     },
     "metadata": {
      "needs_background": "light"
     },
     "output_type": "display_data"
    }
   ],
   "source": [
    "plt.figure(figsize=(10,7))\n",
    "sns.histplot(df['Purchase'],kde=True,bins=30)\n",
    "plt.show()"
   ]
  },
  {
   "cell_type": "code",
   "execution_count": 30,
   "id": "d4127a4a",
   "metadata": {
    "execution": {
     "iopub.execute_input": "2022-11-06T20:04:28.649133Z",
     "iopub.status.busy": "2022-11-06T20:04:28.648712Z",
     "iopub.status.idle": "2022-11-06T20:04:28.863884Z",
     "shell.execute_reply": "2022-11-06T20:04:28.862482Z"
    },
    "papermill": {
     "duration": 0.244599,
     "end_time": "2022-11-06T20:04:28.867238",
     "exception": false,
     "start_time": "2022-11-06T20:04:28.622639",
     "status": "completed"
    },
    "tags": []
   },
   "outputs": [
    {
     "data": {
      "text/plain": [
       "<AxesSubplot:xlabel='Purchase'>"
      ]
     },
     "execution_count": 30,
     "metadata": {},
     "output_type": "execute_result"
    },
    {
     "data": {
      "image/png": "[encoded data removed]",
      "text/plain": [
       "<Figure size 432x288 with 1 Axes>"
      ]
     },
     "metadata": {
      "needs_background": "light"
     },
     "output_type": "display_data"
    }
   ],
   "source": [
    "sns.boxplot(df['Purchase'])"
   ]
  },
  {
   "cell_type": "code",
   "execution_count": 31,
   "id": "b30d2c1b",
   "metadata": {
    "execution": {
     "iopub.execute_input": "2022-11-06T20:04:28.918783Z",
     "iopub.status.busy": "2022-11-06T20:04:28.918358Z",
     "iopub.status.idle": "2022-11-06T20:04:31.191209Z",
     "shell.execute_reply": "2022-11-06T20:04:31.189696Z"
    },
    "papermill": {
     "duration": 2.301627,
     "end_time": "2022-11-06T20:04:31.193929",
     "exception": false,
     "start_time": "2022-11-06T20:04:28.892302",
     "status": "completed"
    },
    "tags": []
   },
   "outputs": [
    {
     "data": {
      "image/png": "[encoded data removed]",
      "text/plain": [
       "<Figure size 432x288 with 1 Axes>"
      ]
     },
     "metadata": {
      "needs_background": "light"
     },
     "output_type": "display_data"
    }
   ],
   "source": [
    "st.probplot(df['Purchase'],dist='norm',plot=plt);"
   ]
  },
  {
   "cell_type": "code",
   "execution_count": 32,
   "id": "36a0617a",
   "metadata": {
    "execution": {
     "iopub.execute_input": "2022-11-06T20:04:31.244581Z",
     "iopub.status.busy": "2022-11-06T20:04:31.244136Z",
     "iopub.status.idle": "2022-11-06T20:04:31.308356Z",
     "shell.execute_reply": "2022-11-06T20:04:31.307052Z"
    },
    "papermill": {
     "duration": 0.093217,
     "end_time": "2022-11-06T20:04:31.311296",
     "exception": false,
     "start_time": "2022-11-06T20:04:31.218079",
     "status": "completed"
    },
    "tags": []
   },
   "outputs": [
    {
     "data": {
      "text/plain": [
       "ShapiroResult(statistic=0.9526435732841492, pvalue=0.0)"
      ]
     },
     "execution_count": 32,
     "metadata": {},
     "output_type": "execute_result"
    }
   ],
   "source": [
    "#Using the Statistical Test to check whether it accepts Normal Distribution\n",
    "#Shapiro Wilk Test\n",
    "\n",
    "st.shapiro(df['Purchase'])"
   ]
  },
  {
   "cell_type": "markdown",
   "id": "26d27842",
   "metadata": {
    "papermill": {
     "duration": 0.023685,
     "end_time": "2022-11-06T20:04:31.359090",
     "exception": false,
     "start_time": "2022-11-06T20:04:31.335405",
     "status": "completed"
    },
    "tags": []
   },
   "source": [
    "**Insights**\n",
    "* The p-Value is 0.0.\n",
    "* Hence,It doesn't follow Normal Distribution.\n",
    "* It contains the Outliers."
   ]
  },
  {
   "cell_type": "code",
   "execution_count": 33,
   "id": "2b0d5660",
   "metadata": {},
   "outputs": [
    {
     "data": {
      "text/html": [
       "<div>\n",
       "<style scoped>\n",
       "    .dataframe tbody tr th:only-of-type {\n",
       "        vertical-align: middle;\n",
       "    }\n",
       "\n",
       "    .dataframe tbody tr th {\n",
       "        vertical-align: top;\n",
       "    }\n",
       "\n",
       "    .dataframe thead th {\n",
       "        text-align: right;\n",
       "    }\n",
       "</style>\n",
       "<table border=\"1\" class=\"dataframe\">\n",
       "  <thead>\n",
       "    <tr style=\"text-align: right;\">\n",
       "      <th></th>\n",
       "      <th>User_ID</th>\n",
       "      <th>Product_ID</th>\n",
       "      <th>Gender</th>\n",
       "      <th>Age</th>\n",
       "      <th>Occupation</th>\n",
       "      <th>City_Category</th>\n",
       "      <th>Stay_In_Current_City_Years</th>\n",
       "      <th>Marital_Status</th>\n",
       "      <th>Product_Category_1</th>\n",
       "      <th>Product_Category_2</th>\n",
       "      <th>Product_Category_3</th>\n",
       "      <th>Purchase</th>\n",
       "    </tr>\n",
       "  </thead>\n",
       "  <tbody>\n",
       "    <tr>\n",
       "      <th>0</th>\n",
       "      <td>1000001</td>\n",
       "      <td>P00069042</td>\n",
       "      <td>F</td>\n",
       "      <td>0-17</td>\n",
       "      <td>10</td>\n",
       "      <td>A</td>\n",
       "      <td>2</td>\n",
       "      <td>0</td>\n",
       "      <td>3</td>\n",
       "      <td>NaN</td>\n",
       "      <td>NaN</td>\n",
       "      <td>8370</td>\n",
       "    </tr>\n",
       "    <tr>\n",
       "      <th>1</th>\n",
       "      <td>1000001</td>\n",
       "      <td>P00248942</td>\n",
       "      <td>F</td>\n",
       "      <td>0-17</td>\n",
       "      <td>10</td>\n",
       "      <td>A</td>\n",
       "      <td>2</td>\n",
       "      <td>0</td>\n",
       "      <td>1</td>\n",
       "      <td>6.0</td>\n",
       "      <td>14.0</td>\n",
       "      <td>15200</td>\n",
       "    </tr>\n",
       "    <tr>\n",
       "      <th>2</th>\n",
       "      <td>1000001</td>\n",
       "      <td>P00087842</td>\n",
       "      <td>F</td>\n",
       "      <td>0-17</td>\n",
       "      <td>10</td>\n",
       "      <td>A</td>\n",
       "      <td>2</td>\n",
       "      <td>0</td>\n",
       "      <td>12</td>\n",
       "      <td>NaN</td>\n",
       "      <td>NaN</td>\n",
       "      <td>1422</td>\n",
       "    </tr>\n",
       "    <tr>\n",
       "      <th>3</th>\n",
       "      <td>1000001</td>\n",
       "      <td>P00085442</td>\n",
       "      <td>F</td>\n",
       "      <td>0-17</td>\n",
       "      <td>10</td>\n",
       "      <td>A</td>\n",
       "      <td>2</td>\n",
       "      <td>0</td>\n",
       "      <td>12</td>\n",
       "      <td>14.0</td>\n",
       "      <td>NaN</td>\n",
       "      <td>1057</td>\n",
       "    </tr>\n",
       "    <tr>\n",
       "      <th>4</th>\n",
       "      <td>1000002</td>\n",
       "      <td>P00285442</td>\n",
       "      <td>M</td>\n",
       "      <td>55+</td>\n",
       "      <td>16</td>\n",
       "      <td>C</td>\n",
       "      <td>4+</td>\n",
       "      <td>0</td>\n",
       "      <td>8</td>\n",
       "      <td>NaN</td>\n",
       "      <td>NaN</td>\n",
       "      <td>7969</td>\n",
       "    </tr>\n",
       "  </tbody>\n",
       "</table>\n",
       "</div>"
      ],
      "text/plain": [
       "   User_ID Product_ID Gender   Age  Occupation City_Category  \\\n",
       "0  1000001  P00069042      F  0-17          10             A   \n",
       "1  1000001  P00248942      F  0-17          10             A   \n",
       "2  1000001  P00087842      F  0-17          10             A   \n",
       "3  1000001  P00085442      F  0-17          10             A   \n",
       "4  1000002  P00285442      M   55+          16             C   \n",
       "\n",
       "  Stay_In_Current_City_Years  Marital_Status  Product_Category_1  \\\n",
       "0                          2               0                   3   \n",
       "1                          2               0                   1   \n",
       "2                          2               0                  12   \n",
       "3                          2               0                  12   \n",
       "4                         4+               0                   8   \n",
       "\n",
       "   Product_Category_2  Product_Category_3  Purchase  \n",
       "0                 NaN                 NaN      8370  \n",
       "1                 6.0                14.0     15200  \n",
       "2                 NaN                 NaN      1422  \n",
       "3                14.0                 NaN      1057  \n",
       "4                 NaN                 NaN      7969  "
      ]
     },
     "execution_count": 33,
     "metadata": {},
     "output_type": "execute_result"
    }
   ],
   "source": [
    "df.head()"
   ]
  },
  {
   "cell_type": "code",
   "execution_count": null,
   "id": "780605ec",
   "metadata": {},
   "outputs": [],
   "source": []
  },
  {
   "cell_type": "markdown",
   "id": "7892334c",
   "metadata": {
    "papermill": {
     "duration": 0.023536,
     "end_time": "2022-11-06T20:04:31.406716",
     "exception": false,
     "start_time": "2022-11-06T20:04:31.383180",
     "status": "completed"
    },
    "tags": []
   },
   "source": [
    "**Bi-Variate Analysis**"
   ]
  },
  {
   "cell_type": "code",
   "execution_count": null,
   "id": "2fa461d6",
   "metadata": {},
   "outputs": [],
   "source": [
    "## Taking each gender (group by), sum/count of each purchases and then plot a barplot. "
   ]
  },
  {
   "cell_type": "code",
   "execution_count": 39,
   "id": "7bb23767",
   "metadata": {},
   "outputs": [
    {
     "data": {
      "text/plain": [
       "<AxesSubplot:xlabel='Gender'>"
      ]
     },
     "execution_count": 39,
     "metadata": {},
     "output_type": "execute_result"
    },
    {
     "data": {
      "image/png": "[encoded data removed]",
      "text/plain": [
       "<Figure size 432x288 with 1 Axes>"
      ]
     },
     "metadata": {
      "needs_background": "light"
     },
     "output_type": "display_data"
    }
   ],
   "source": [
    "df.groupby('Gender')['Purchase'].count().plot(kind = 'bar')"
   ]
  },
  {
   "cell_type": "code",
   "execution_count": 34,
   "id": "717aad70",
   "metadata": {
    "execution": {
     "iopub.execute_input": "2022-11-06T20:04:31.456985Z",
     "iopub.status.busy": "2022-11-06T20:04:31.456439Z",
     "iopub.status.idle": "2022-11-06T20:04:43.188410Z",
     "shell.execute_reply": "2022-11-06T20:04:43.187200Z"
    },
    "papermill": {
     "duration": 11.760877,
     "end_time": "2022-11-06T20:04:43.191691",
     "exception": false,
     "start_time": "2022-11-06T20:04:31.430814",
     "status": "completed"
    },
    "tags": []
   },
   "outputs": [
    {
     "data": {
      "image/png": "[encoded data removed]",
      "text/plain": [
       "<Figure size 720x504 with 1 Axes>"
      ]
     },
     "metadata": {
      "needs_background": "light"
     },
     "output_type": "display_data"
    }
   ],
   "source": [
    "plt.figure(figsize=(10,7))\n",
    "sns.barplot(x=df['Gender'],y=df['Purchase'])\n",
    "plt.show()"
   ]
  },
  {
   "cell_type": "code",
   "execution_count": 35,
   "id": "0f8b8b98",
   "metadata": {
    "execution": {
     "iopub.execute_input": "2022-11-06T20:04:43.243411Z",
     "iopub.status.busy": "2022-11-06T20:04:43.242974Z",
     "iopub.status.idle": "2022-11-06T20:04:43.704646Z",
     "shell.execute_reply": "2022-11-06T20:04:43.703241Z"
    },
    "papermill": {
     "duration": 0.491385,
     "end_time": "2022-11-06T20:04:43.708211",
     "exception": false,
     "start_time": "2022-11-06T20:04:43.216826",
     "status": "completed"
    },
    "tags": []
   },
   "outputs": [
    {
     "data": {
      "text/plain": [
       "<AxesSubplot:xlabel='Gender', ylabel='Purchase'>"
      ]
     },
     "execution_count": 35,
     "metadata": {},
     "output_type": "execute_result"
    },
    {
     "data": {
      "image/png": "[encoded data removed]",
      "text/plain": [
       "<Figure size 432x288 with 1 Axes>"
      ]
     },
     "metadata": {
      "needs_background": "light"
     },
     "output_type": "display_data"
    }
   ],
   "source": [
    "sns.boxplot(x=df['Gender'],y=df['Purchase'])"
   ]
  },
  {
   "cell_type": "markdown",
   "id": "5477cca7",
   "metadata": {
    "papermill": {
     "duration": 0.024915,
     "end_time": "2022-11-06T20:04:43.759096",
     "exception": false,
     "start_time": "2022-11-06T20:04:43.734181",
     "status": "completed"
    },
    "tags": []
   },
   "source": [
    "**Insights**\n",
    "* Both Male and Female have outliers wityh respect to Purchase.\n",
    "* It seems like the Median of Female and Male is almost same.\n",
    "* Gender is not the Good Feature to Predict the Purchase."
   ]
  },
  {
   "cell_type": "code",
   "execution_count": null,
   "id": "04f0decd",
   "metadata": {},
   "outputs": [],
   "source": [
    "df.groupby('')"
   ]
  },
  {
   "cell_type": "code",
   "execution_count": 40,
   "id": "7c6387ef",
   "metadata": {
    "execution": {
     "iopub.execute_input": "2022-11-06T20:04:43.812583Z",
     "iopub.status.busy": "2022-11-06T20:04:43.811421Z",
     "iopub.status.idle": "2022-11-06T20:04:52.713554Z",
     "shell.execute_reply": "2022-11-06T20:04:52.711989Z"
    },
    "papermill": {
     "duration": 8.931586,
     "end_time": "2022-11-06T20:04:52.716111",
     "exception": false,
     "start_time": "2022-11-06T20:04:43.784525",
     "status": "completed"
    },
    "tags": []
   },
   "outputs": [
    {
     "data": {
      "image/png": "[encoded data removed]",
      "text/plain": [
       "<Figure size 720x504 with 1 Axes>"
      ]
     },
     "metadata": {
      "needs_background": "light"
     },
     "output_type": "display_data"
    }
   ],
   "source": [
    "plt.figure(figsize=(10,7))\n",
    "sns.barplot(x=df['Age'],y=df['Purchase'])\n",
    "plt.show()"
   ]
  },
  {
   "cell_type": "code",
   "execution_count": 41,
   "id": "9c04b451",
   "metadata": {
    "execution": {
     "iopub.execute_input": "2022-11-06T20:04:52.768982Z",
     "iopub.status.busy": "2022-11-06T20:04:52.768498Z",
     "iopub.status.idle": "2022-11-06T20:04:53.401642Z",
     "shell.execute_reply": "2022-11-06T20:04:53.400792Z"
    },
    "papermill": {
     "duration": 0.662899,
     "end_time": "2022-11-06T20:04:53.404284",
     "exception": false,
     "start_time": "2022-11-06T20:04:52.741385",
     "status": "completed"
    },
    "tags": []
   },
   "outputs": [
    {
     "data": {
      "image/png": "[encoded data removed]",
      "text/plain": [
       "<Figure size 432x288 with 1 Axes>"
      ]
     },
     "metadata": {
      "needs_background": "light"
     },
     "output_type": "display_data"
    }
   ],
   "source": [
    "sns.countplot(df[df['Gender']=='F']['Age'])\n",
    "plt.xlabel('Female')\n",
    "plt.show()"
   ]
  },
  {
   "cell_type": "code",
   "execution_count": 42,
   "id": "6f53910c",
   "metadata": {
    "execution": {
     "iopub.execute_input": "2022-11-06T20:04:53.458003Z",
     "iopub.status.busy": "2022-11-06T20:04:53.456775Z",
     "iopub.status.idle": "2022-11-06T20:04:54.049333Z",
     "shell.execute_reply": "2022-11-06T20:04:54.048027Z"
    },
    "papermill": {
     "duration": 0.62187,
     "end_time": "2022-11-06T20:04:54.051909",
     "exception": false,
     "start_time": "2022-11-06T20:04:53.430039",
     "status": "completed"
    },
    "tags": []
   },
   "outputs": [
    {
     "data": {
      "text/plain": [
       "<AxesSubplot:xlabel='Age', ylabel='count'>"
      ]
     },
     "execution_count": 42,
     "metadata": {},
     "output_type": "execute_result"
    },
    {
     "data": {
      "image/png": "[encoded data removed]",
      "text/plain": [
       "<Figure size 432x288 with 1 Axes>"
      ]
     },
     "metadata": {
      "needs_background": "light"
     },
     "output_type": "display_data"
    }
   ],
   "source": [
    "sns.countplot(df[df['Gender']=='M']['Age'])"
   ]
  },
  {
   "cell_type": "code",
   "execution_count": 43,
   "id": "3990235f",
   "metadata": {
    "execution": {
     "iopub.execute_input": "2022-11-06T20:04:54.107715Z",
     "iopub.status.busy": "2022-11-06T20:04:54.106988Z",
     "iopub.status.idle": "2022-11-06T20:04:54.669787Z",
     "shell.execute_reply": "2022-11-06T20:04:54.668539Z"
    },
    "papermill": {
     "duration": 0.593861,
     "end_time": "2022-11-06T20:04:54.672476",
     "exception": false,
     "start_time": "2022-11-06T20:04:54.078615",
     "status": "completed"
    },
    "tags": []
   },
   "outputs": [
    {
     "data": {
      "text/plain": [
       "<AxesSubplot:xlabel='Age', ylabel='Purchase'>"
      ]
     },
     "execution_count": 43,
     "metadata": {},
     "output_type": "execute_result"
    },
    {
     "data": {
      "image/png": "[encoded data removed]",
      "text/plain": [
       "<Figure size 432x288 with 1 Axes>"
      ]
     },
     "metadata": {
      "needs_background": "light"
     },
     "output_type": "display_data"
    }
   ],
   "source": [
    "sns.boxplot(x=df['Age'],y=df['Purchase'])"
   ]
  },
  {
   "cell_type": "code",
   "execution_count": 54,
   "id": "6bfe0ba8",
   "metadata": {},
   "outputs": [
    {
     "data": {
      "text/plain": [
       "<AxesSubplot:xlabel='Occupation'>"
      ]
     },
     "execution_count": 54,
     "metadata": {},
     "output_type": "execute_result"
    },
    {
     "data": {
      "image/png": "[encoded data removed]",
      "text/plain": [
       "<Figure size 432x288 with 1 Axes>"
      ]
     },
     "metadata": {
      "needs_background": "light"
     },
     "output_type": "display_data"
    }
   ],
   "source": [
    "df.groupby('Occupation')['Purchase'].sum().plot(kind = 'bar')"
   ]
  },
  {
   "cell_type": "code",
   "execution_count": 44,
   "id": "6280a35b",
   "metadata": {
    "execution": {
     "iopub.execute_input": "2022-11-06T20:04:54.727834Z",
     "iopub.status.busy": "2022-11-06T20:04:54.726931Z",
     "iopub.status.idle": "2022-11-06T20:05:02.082301Z",
     "shell.execute_reply": "2022-11-06T20:05:02.081048Z"
    },
    "papermill": {
     "duration": 7.386462,
     "end_time": "2022-11-06T20:05:02.085224",
     "exception": false,
     "start_time": "2022-11-06T20:04:54.698762",
     "status": "completed"
    },
    "tags": []
   },
   "outputs": [
    {
     "data": {
      "image/png": "[encoded data removed]",
      "text/plain": [
       "<Figure size 720x360 with 1 Axes>"
      ]
     },
     "metadata": {
      "needs_background": "light"
     },
     "output_type": "display_data"
    }
   ],
   "source": [
    "plt.figure(figsize=(10,5))\n",
    "sns.barplot(x=df['Occupation'],y=df['Purchase'])\n",
    "plt.show()"
   ]
  },
  {
   "cell_type": "code",
   "execution_count": 45,
   "id": "1f10def4",
   "metadata": {
    "execution": {
     "iopub.execute_input": "2022-11-06T20:05:02.141608Z",
     "iopub.status.busy": "2022-11-06T20:05:02.141136Z",
     "iopub.status.idle": "2022-11-06T20:05:02.734798Z",
     "shell.execute_reply": "2022-11-06T20:05:02.733206Z"
    },
    "papermill": {
     "duration": 0.625312,
     "end_time": "2022-11-06T20:05:02.737682",
     "exception": false,
     "start_time": "2022-11-06T20:05:02.112370",
     "status": "completed"
    },
    "tags": []
   },
   "outputs": [
    {
     "data": {
      "text/plain": [
       "<AxesSubplot:xlabel='Occupation', ylabel='Purchase'>"
      ]
     },
     "execution_count": 45,
     "metadata": {},
     "output_type": "execute_result"
    },
    {
     "data": {
      "image/png": "[encoded data removed]",
      "text/plain": [
       "<Figure size 432x288 with 1 Axes>"
      ]
     },
     "metadata": {
      "needs_background": "light"
     },
     "output_type": "display_data"
    }
   ],
   "source": [
    "sns.boxplot(x='Occupation',y='Purchase',data=df)"
   ]
  },
  {
   "cell_type": "code",
   "execution_count": 46,
   "id": "a7d6bb9d",
   "metadata": {
    "execution": {
     "iopub.execute_input": "2022-11-06T20:05:02.796170Z",
     "iopub.status.busy": "2022-11-06T20:05:02.795128Z",
     "iopub.status.idle": "2022-11-06T20:05:11.864083Z",
     "shell.execute_reply": "2022-11-06T20:05:11.863026Z"
    },
    "papermill": {
     "duration": 9.1009,
     "end_time": "2022-11-06T20:05:11.866676",
     "exception": false,
     "start_time": "2022-11-06T20:05:02.765776",
     "status": "completed"
    },
    "tags": []
   },
   "outputs": [
    {
     "data": {
      "text/plain": [
       "<AxesSubplot:xlabel='City_Category', ylabel='Purchase'>"
      ]
     },
     "execution_count": 46,
     "metadata": {},
     "output_type": "execute_result"
    },
    {
     "data": {
      "image/png": "[encoded data removed]",
      "text/plain": [
       "<Figure size 432x288 with 1 Axes>"
      ]
     },
     "metadata": {
      "needs_background": "light"
     },
     "output_type": "display_data"
    }
   ],
   "source": [
    "sns.barplot(x='City_Category',y='Purchase',data=df)"
   ]
  },
  {
   "cell_type": "code",
   "execution_count": 47,
   "id": "1481e73d",
   "metadata": {
    "execution": {
     "iopub.execute_input": "2022-11-06T20:05:11.924762Z",
     "iopub.status.busy": "2022-11-06T20:05:11.923530Z",
     "iopub.status.idle": "2022-11-06T20:05:12.281374Z",
     "shell.execute_reply": "2022-11-06T20:05:12.280313Z"
    },
    "papermill": {
     "duration": 0.389089,
     "end_time": "2022-11-06T20:05:12.284112",
     "exception": false,
     "start_time": "2022-11-06T20:05:11.895023",
     "status": "completed"
    },
    "tags": []
   },
   "outputs": [
    {
     "data": {
      "text/plain": [
       "<AxesSubplot:xlabel='City_Category', ylabel='count'>"
      ]
     },
     "execution_count": 47,
     "metadata": {},
     "output_type": "execute_result"
    },
    {
     "data": {
      "image/png": "[encoded data removed]",
      "text/plain": [
       "<Figure size 432x288 with 1 Axes>"
      ]
     },
     "metadata": {
      "needs_background": "light"
     },
     "output_type": "display_data"
    }
   ],
   "source": [
    "sns.countplot(df[df['Gender']=='F']['City_Category'])"
   ]
  },
  {
   "cell_type": "code",
   "execution_count": 48,
   "id": "cbd222f4",
   "metadata": {
    "execution": {
     "iopub.execute_input": "2022-11-06T20:05:12.341659Z",
     "iopub.status.busy": "2022-11-06T20:05:12.341227Z",
     "iopub.status.idle": "2022-11-06T20:05:12.883680Z",
     "shell.execute_reply": "2022-11-06T20:05:12.882719Z"
    },
    "papermill": {
     "duration": 0.574218,
     "end_time": "2022-11-06T20:05:12.886139",
     "exception": false,
     "start_time": "2022-11-06T20:05:12.311921",
     "status": "completed"
    },
    "tags": []
   },
   "outputs": [
    {
     "data": {
      "text/plain": [
       "<AxesSubplot:xlabel='City_Category', ylabel='count'>"
      ]
     },
     "execution_count": 48,
     "metadata": {},
     "output_type": "execute_result"
    },
    {
     "data": {
      "image/png": "[encoded data removed]",
      "text/plain": [
       "<Figure size 432x288 with 1 Axes>"
      ]
     },
     "metadata": {
      "needs_background": "light"
     },
     "output_type": "display_data"
    }
   ],
   "source": [
    "sns.countplot(df[df['Gender']=='M']['City_Category'])"
   ]
  },
  {
   "cell_type": "code",
   "execution_count": 49,
   "id": "b80ae3c8",
   "metadata": {
    "execution": {
     "iopub.execute_input": "2022-11-06T20:05:12.944941Z",
     "iopub.status.busy": "2022-11-06T20:05:12.944044Z",
     "iopub.status.idle": "2022-11-06T20:05:13.425648Z",
     "shell.execute_reply": "2022-11-06T20:05:13.424212Z"
    },
    "papermill": {
     "duration": 0.513666,
     "end_time": "2022-11-06T20:05:13.428243",
     "exception": false,
     "start_time": "2022-11-06T20:05:12.914577",
     "status": "completed"
    },
    "tags": []
   },
   "outputs": [
    {
     "data": {
      "text/plain": [
       "<AxesSubplot:xlabel='City_Category', ylabel='Purchase'>"
      ]
     },
     "execution_count": 49,
     "metadata": {},
     "output_type": "execute_result"
    },
    {
     "data": {
      "image/png": "[encoded data removed]",
      "text/plain": [
       "<Figure size 432x288 with 1 Axes>"
      ]
     },
     "metadata": {
      "needs_background": "light"
     },
     "output_type": "display_data"
    }
   ],
   "source": [
    "sns.boxplot(x='City_Category',y='Purchase',data=df)"
   ]
  },
  {
   "cell_type": "code",
   "execution_count": 50,
   "id": "314a48de",
   "metadata": {
    "execution": {
     "iopub.execute_input": "2022-11-06T20:05:13.486321Z",
     "iopub.status.busy": "2022-11-06T20:05:13.485846Z",
     "iopub.status.idle": "2022-11-06T20:05:21.790309Z",
     "shell.execute_reply": "2022-11-06T20:05:21.789371Z"
    },
    "papermill": {
     "duration": 8.337044,
     "end_time": "2022-11-06T20:05:21.792881",
     "exception": false,
     "start_time": "2022-11-06T20:05:13.455837",
     "status": "completed"
    },
    "tags": []
   },
   "outputs": [
    {
     "data": {
      "text/plain": [
       "<AxesSubplot:xlabel='Stay_In_Current_City_Years', ylabel='Purchase'>"
      ]
     },
     "execution_count": 50,
     "metadata": {},
     "output_type": "execute_result"
    },
    {
     "data": {
      "image/png": "[encoded data removed]",
      "text/plain": [
       "<Figure size 432x288 with 1 Axes>"
      ]
     },
     "metadata": {
      "needs_background": "light"
     },
     "output_type": "display_data"
    }
   ],
   "source": [
    "sns.barplot(x='Stay_In_Current_City_Years',y='Purchase',data=df)"
   ]
  },
  {
   "cell_type": "code",
   "execution_count": 51,
   "id": "74a5c686",
   "metadata": {
    "execution": {
     "iopub.execute_input": "2022-11-06T20:05:21.854779Z",
     "iopub.status.busy": "2022-11-06T20:05:21.853446Z",
     "iopub.status.idle": "2022-11-06T20:05:22.383863Z",
     "shell.execute_reply": "2022-11-06T20:05:22.382318Z"
    },
    "papermill": {
     "duration": 0.564837,
     "end_time": "2022-11-06T20:05:22.387215",
     "exception": false,
     "start_time": "2022-11-06T20:05:21.822378",
     "status": "completed"
    },
    "tags": []
   },
   "outputs": [
    {
     "data": {
      "text/plain": [
       "<AxesSubplot:xlabel='Stay_In_Current_City_Years', ylabel='Purchase'>"
      ]
     },
     "execution_count": 51,
     "metadata": {},
     "output_type": "execute_result"
    },
    {
     "data": {
      "image/png": "[encoded data removed]",
      "text/plain": [
       "<Figure size 432x288 with 1 Axes>"
      ]
     },
     "metadata": {
      "needs_background": "light"
     },
     "output_type": "display_data"
    }
   ],
   "source": [
    "sns.boxplot(x='Stay_In_Current_City_Years',y='Purchase',data=df)"
   ]
  },
  {
   "cell_type": "code",
   "execution_count": 52,
   "id": "eaa75a5a",
   "metadata": {
    "execution": {
     "iopub.execute_input": "2022-11-06T20:05:22.448542Z",
     "iopub.status.busy": "2022-11-06T20:05:22.448090Z",
     "iopub.status.idle": "2022-11-06T20:05:34.028438Z",
     "shell.execute_reply": "2022-11-06T20:05:34.027028Z"
    },
    "papermill": {
     "duration": 11.614231,
     "end_time": "2022-11-06T20:05:34.031282",
     "exception": false,
     "start_time": "2022-11-06T20:05:22.417051",
     "status": "completed"
    },
    "tags": []
   },
   "outputs": [
    {
     "data": {
      "text/plain": [
       "<AxesSubplot:xlabel='Marital_Status', ylabel='Purchase'>"
      ]
     },
     "execution_count": 52,
     "metadata": {},
     "output_type": "execute_result"
    },
    {
     "data": {
      "image/png": "[encoded data removed]",
      "text/plain": [
       "<Figure size 504x360 with 1 Axes>"
      ]
     },
     "metadata": {
      "needs_background": "light"
     },
     "output_type": "display_data"
    }
   ],
   "source": [
    "plt.figure(figsize=(7,5))\n",
    "sns.barplot(x='Marital_Status',y='Purchase',data=df)"
   ]
  },
  {
   "cell_type": "code",
   "execution_count": 53,
   "id": "a0958939",
   "metadata": {
    "execution": {
     "iopub.execute_input": "2022-11-06T20:05:34.093087Z",
     "iopub.status.busy": "2022-11-06T20:05:34.092576Z",
     "iopub.status.idle": "2022-11-06T20:05:34.372206Z",
     "shell.execute_reply": "2022-11-06T20:05:34.370695Z"
    },
    "papermill": {
     "duration": 0.314081,
     "end_time": "2022-11-06T20:05:34.375130",
     "exception": false,
     "start_time": "2022-11-06T20:05:34.061049",
     "status": "completed"
    },
    "tags": []
   },
   "outputs": [
    {
     "data": {
      "text/plain": [
       "<AxesSubplot:xlabel='Marital_Status', ylabel='Purchase'>"
      ]
     },
     "execution_count": 53,
     "metadata": {},
     "output_type": "execute_result"
    },
    {
     "data": {
      "image/png": "[encoded data removed]",
      "text/plain": [
       "<Figure size 432x288 with 1 Axes>"
      ]
     },
     "metadata": {
      "needs_background": "light"
     },
     "output_type": "display_data"
    }
   ],
   "source": [
    "sns.boxplot(x=df['Marital_Status'],y=df['Purchase'])"
   ]
  },
  {
   "cell_type": "code",
   "execution_count": null,
   "id": "523b941e",
   "metadata": {},
   "outputs": [],
   "source": []
  },
  {
   "cell_type": "code",
   "execution_count": null,
   "id": "a619efaf",
   "metadata": {},
   "outputs": [],
   "source": []
  },
  {
   "cell_type": "code",
   "execution_count": null,
   "id": "f943a931",
   "metadata": {},
   "outputs": [],
   "source": []
  },
  {
   "cell_type": "code",
   "execution_count": null,
   "id": "81547083",
   "metadata": {},
   "outputs": [],
   "source": []
  },
  {
   "cell_type": "code",
   "execution_count": null,
   "id": "6afec006",
   "metadata": {},
   "outputs": [],
   "source": []
  },
  {
   "cell_type": "code",
   "execution_count": 60,
   "id": "f293787b",
   "metadata": {
    "execution": {
     "iopub.execute_input": "2022-11-06T20:05:34.438898Z",
     "iopub.status.busy": "2022-11-06T20:05:34.437478Z",
     "iopub.status.idle": "2022-11-06T20:05:34.444458Z",
     "shell.execute_reply": "2022-11-06T20:05:34.443085Z"
    },
    "papermill": {
     "duration": 0.041264,
     "end_time": "2022-11-06T20:05:34.446966",
     "exception": false,
     "start_time": "2022-11-06T20:05:34.405702",
     "status": "completed"
    },
    "tags": []
   },
   "outputs": [],
   "source": [
    "def visual_bar_box(feature1,feature2):\n",
    "    plt.figure(figsize=(7,5))\n",
    "    sns.barplot(feature1,feature2)\n",
    "    plt.show()\n",
    "    sns.boxplot(feature1,feature2)\n",
    "    plt.show()"
   ]
  },
  {
   "cell_type": "code",
   "execution_count": 61,
   "id": "7280013e",
   "metadata": {
    "execution": {
     "iopub.execute_input": "2022-11-06T20:05:34.511627Z",
     "iopub.status.busy": "2022-11-06T20:05:34.510658Z",
     "iopub.status.idle": "2022-11-06T20:05:43.054051Z",
     "shell.execute_reply": "2022-11-06T20:05:43.052692Z"
    },
    "papermill": {
     "duration": 8.578426,
     "end_time": "2022-11-06T20:05:43.056658",
     "exception": false,
     "start_time": "2022-11-06T20:05:34.478232",
     "status": "completed"
    },
    "tags": []
   },
   "outputs": [
    {
     "data": {
      "image/png": "[encoded data removed]",
      "text/plain": [
       "<Figure size 504x360 with 1 Axes>"
      ]
     },
     "metadata": {
      "needs_background": "light"
     },
     "output_type": "display_data"
    },
    {
     "data": {
      "image/png": "[encoded data removed]",
      "text/plain": [
       "<Figure size 432x288 with 1 Axes>"
      ]
     },
     "metadata": {
      "needs_background": "light"
     },
     "output_type": "display_data"
    }
   ],
   "source": [
    "visual_bar_box(df['Product_Category_1'],df['Purchase'])"
   ]
  },
  {
   "cell_type": "code",
   "execution_count": 62,
   "id": "17fe5797",
   "metadata": {
    "execution": {
     "iopub.execute_input": "2022-11-06T20:05:43.120048Z",
     "iopub.status.busy": "2022-11-06T20:05:43.118337Z",
     "iopub.status.idle": "2022-11-06T20:05:48.811030Z",
     "shell.execute_reply": "2022-11-06T20:05:48.809803Z"
    },
    "papermill": {
     "duration": 5.727427,
     "end_time": "2022-11-06T20:05:48.814123",
     "exception": false,
     "start_time": "2022-11-06T20:05:43.086696",
     "status": "completed"
    },
    "tags": []
   },
   "outputs": [
    {
     "data": {
      "image/png": "[encoded data removed]",
      "text/plain": [
       "<Figure size 504x360 with 1 Axes>"
      ]
     },
     "metadata": {
      "needs_background": "light"
     },
     "output_type": "display_data"
    },
    {
     "data": {
      "image/png": "[encoded data removed]",
      "text/plain": [
       "<Figure size 432x288 with 1 Axes>"
      ]
     },
     "metadata": {
      "needs_background": "light"
     },
     "output_type": "display_data"
    }
   ],
   "source": [
    "visual_bar_box(df['Product_Category_2'],df['Purchase'])"
   ]
  },
  {
   "cell_type": "code",
   "execution_count": 63,
   "id": "d8ca4cfa",
   "metadata": {
    "execution": {
     "iopub.execute_input": "2022-11-06T20:05:48.883940Z",
     "iopub.status.busy": "2022-11-06T20:05:48.882458Z",
     "iopub.status.idle": "2022-11-06T20:05:52.008942Z",
     "shell.execute_reply": "2022-11-06T20:05:52.007463Z"
    },
    "papermill": {
     "duration": 3.165022,
     "end_time": "2022-11-06T20:05:52.011606",
     "exception": false,
     "start_time": "2022-11-06T20:05:48.846584",
     "status": "completed"
    },
    "tags": []
   },
   "outputs": [
    {
     "data": {
      "image/png": "[encoded data removed]",
      "text/plain": [
       "<Figure size 504x360 with 1 Axes>"
      ]
     },
     "metadata": {
      "needs_background": "light"
     },
     "output_type": "display_data"
    },
    {
     "data": {
      "image/png": "[encoded data removed]",
      "text/plain": [
       "<Figure size 432x288 with 1 Axes>"
      ]
     },
     "metadata": {
      "needs_background": "light"
     },
     "output_type": "display_data"
    }
   ],
   "source": [
    "visual_bar_box(df['Product_Category_3'],df['Purchase'])"
   ]
  },
  {
   "cell_type": "markdown",
   "id": "6811bac9",
   "metadata": {
    "papermill": {
     "duration": 0.03074,
     "end_time": "2022-11-06T20:05:52.077259",
     "exception": false,
     "start_time": "2022-11-06T20:05:52.046519",
     "status": "completed"
    },
    "tags": []
   },
   "source": [
    "**Multi-Variate Analysis**"
   ]
  },
  {
   "cell_type": "code",
   "execution_count": null,
   "id": "14e2b221",
   "metadata": {
    "execution": {
     "iopub.execute_input": "2022-11-06T20:05:52.142423Z",
     "iopub.status.busy": "2022-11-06T20:05:52.141936Z",
     "iopub.status.idle": "2022-11-06T20:05:52.150447Z",
     "shell.execute_reply": "2022-11-06T20:05:52.149212Z"
    },
    "papermill": {
     "duration": 0.044523,
     "end_time": "2022-11-06T20:05:52.152833",
     "exception": false,
     "start_time": "2022-11-06T20:05:52.108310",
     "status": "completed"
    },
    "tags": []
   },
   "outputs": [],
   "source": [
    "df.columns"
   ]
  },
  {
   "cell_type": "code",
   "execution_count": 64,
   "id": "5cb88b4e",
   "metadata": {
    "execution": {
     "iopub.execute_input": "2022-11-06T20:05:52.217556Z",
     "iopub.status.busy": "2022-11-06T20:05:52.217075Z",
     "iopub.status.idle": "2022-11-06T20:06:00.157625Z",
     "shell.execute_reply": "2022-11-06T20:06:00.156230Z"
    },
    "papermill": {
     "duration": 7.976442,
     "end_time": "2022-11-06T20:06:00.160544",
     "exception": false,
     "start_time": "2022-11-06T20:05:52.184102",
     "status": "completed"
    },
    "tags": []
   },
   "outputs": [
    {
     "data": {
      "image/png": "[encoded data removed]",
      "text/plain": [
       "<Figure size 720x504 with 1 Axes>"
      ]
     },
     "metadata": {
      "needs_background": "light"
     },
     "output_type": "display_data"
    }
   ],
   "source": [
    "plt.figure(figsize=(10,7))\n",
    "sns.barplot(data=df,x='Age',y='Purchase',hue='Gender')\n",
    "plt.show()"
   ]
  },
  {
   "cell_type": "markdown",
   "id": "dc5f3b36",
   "metadata": {
    "papermill": {
     "duration": 0.033262,
     "end_time": "2022-11-06T20:06:00.226426",
     "exception": false,
     "start_time": "2022-11-06T20:06:00.193164",
     "status": "completed"
    },
    "tags": []
   },
   "source": [
    "* In all Age Group,Males purchasing power is more than Females."
   ]
  },
  {
   "cell_type": "code",
   "execution_count": 65,
   "id": "b3575f0c",
   "metadata": {
    "execution": {
     "iopub.execute_input": "2022-11-06T20:06:00.293578Z",
     "iopub.status.busy": "2022-11-06T20:06:00.292573Z",
     "iopub.status.idle": "2022-11-06T20:06:01.171308Z",
     "shell.execute_reply": "2022-11-06T20:06:01.169878Z"
    },
    "papermill": {
     "duration": 0.915638,
     "end_time": "2022-11-06T20:06:01.174242",
     "exception": false,
     "start_time": "2022-11-06T20:06:00.258604",
     "status": "completed"
    },
    "tags": []
   },
   "outputs": [
    {
     "data": {
      "image/png": "[encoded data removed]",
      "text/plain": [
       "<Figure size 720x504 with 1 Axes>"
      ]
     },
     "metadata": {
      "needs_background": "light"
     },
     "output_type": "display_data"
    }
   ],
   "source": [
    "plt.figure(figsize=(10,7))\n",
    "sns.countplot(x=df['Age'],hue=df['Gender'])\n",
    "plt.show()"
   ]
  },
  {
   "cell_type": "markdown",
   "id": "2960b088",
   "metadata": {
    "papermill": {
     "duration": 0.031852,
     "end_time": "2022-11-06T20:06:01.238258",
     "exception": false,
     "start_time": "2022-11-06T20:06:01.206406",
     "status": "completed"
    },
    "tags": []
   },
   "source": [
    "* The Number of Female Buyers are higher in every Age Group."
   ]
  },
  {
   "cell_type": "code",
   "execution_count": 66,
   "id": "d1d8ea2c",
   "metadata": {
    "execution": {
     "iopub.execute_input": "2022-11-06T20:06:01.303634Z",
     "iopub.status.busy": "2022-11-06T20:06:01.303155Z",
     "iopub.status.idle": "2022-11-06T20:06:09.338990Z",
     "shell.execute_reply": "2022-11-06T20:06:09.337807Z"
    },
    "papermill": {
     "duration": 8.071861,
     "end_time": "2022-11-06T20:06:09.341772",
     "exception": false,
     "start_time": "2022-11-06T20:06:01.269911",
     "status": "completed"
    },
    "tags": []
   },
   "outputs": [
    {
     "data": {
      "image/png": "[encoded data removed]",
      "text/plain": [
       "<Figure size 720x504 with 1 Axes>"
      ]
     },
     "metadata": {
      "needs_background": "light"
     },
     "output_type": "display_data"
    }
   ],
   "source": [
    "plt.figure(figsize=(10,7))\n",
    "sns.barplot(x=df['City_Category'],y=df['Purchase'],hue=df['Age'])\n",
    "plt.show()"
   ]
  },
  {
   "cell_type": "code",
   "execution_count": 67,
   "id": "7a4cdb71",
   "metadata": {
    "execution": {
     "iopub.execute_input": "2022-11-06T20:06:09.409214Z",
     "iopub.status.busy": "2022-11-06T20:06:09.408544Z",
     "iopub.status.idle": "2022-11-06T20:06:10.226495Z",
     "shell.execute_reply": "2022-11-06T20:06:10.225172Z"
    },
    "papermill": {
     "duration": 0.854879,
     "end_time": "2022-11-06T20:06:10.229192",
     "exception": false,
     "start_time": "2022-11-06T20:06:09.374313",
     "status": "completed"
    },
    "tags": []
   },
   "outputs": [
    {
     "data": {
      "image/png": "[encoded data removed]",
      "text/plain": [
       "<Figure size 720x504 with 1 Axes>"
      ]
     },
     "metadata": {
      "needs_background": "light"
     },
     "output_type": "display_data"
    }
   ],
   "source": [
    "plt.figure(figsize=(10,7))\n",
    "sns.countplot(x=df['City_Category'],hue=df['Gender'])\n",
    "plt.show()"
   ]
  },
  {
   "cell_type": "markdown",
   "id": "d9e90d14",
   "metadata": {
    "papermill": {
     "duration": 0.032598,
     "end_time": "2022-11-06T20:06:10.296697",
     "exception": false,
     "start_time": "2022-11-06T20:06:10.264099",
     "status": "completed"
    },
    "tags": []
   },
   "source": [
    "* In Each City_Category,Female Buyers are higher in Number."
   ]
  },
  {
   "cell_type": "markdown",
   "id": "7857926f",
   "metadata": {
    "papermill": {
     "duration": 0.031561,
     "end_time": "2022-11-06T20:06:10.360829",
     "exception": false,
     "start_time": "2022-11-06T20:06:10.329268",
     "status": "completed"
    },
    "tags": []
   },
   "source": [
    "# Feature Engineering"
   ]
  },
  {
   "cell_type": "markdown",
   "id": "694dc184",
   "metadata": {
    "papermill": {
     "duration": 0.031625,
     "end_time": "2022-11-06T20:06:10.424800",
     "exception": false,
     "start_time": "2022-11-06T20:06:10.393175",
     "status": "completed"
    },
    "tags": []
   },
   "source": [
    "**Outlier Removal**"
   ]
  },
  {
   "cell_type": "code",
   "execution_count": 68,
   "id": "742bb204",
   "metadata": {
    "execution": {
     "iopub.execute_input": "2022-11-06T20:06:10.491492Z",
     "iopub.status.busy": "2022-11-06T20:06:10.490983Z",
     "iopub.status.idle": "2022-11-06T20:06:10.570883Z",
     "shell.execute_reply": "2022-11-06T20:06:10.569168Z"
    },
    "papermill": {
     "duration": 0.117515,
     "end_time": "2022-11-06T20:06:10.574136",
     "exception": false,
     "start_time": "2022-11-06T20:06:10.456621",
     "status": "completed"
    },
    "tags": []
   },
   "outputs": [],
   "source": [
    "# Will use the Trimming Method to Remove the Outliers from Purchase Feature\n",
    "# Firstly I need to find the iqr\n",
    "\n",
    "q1 = np.percentile(df['Purchase'],25,interpolation='midpoint')\n",
    "q3 = np.percentile(df['Purchase'],75,interpolation='midpoint')\n",
    "iqr = q3-q1\n",
    "maximum = q3 + 1.5*iqr\n",
    "df = df[df['Purchase']<=maximum]"
   ]
  },
  {
   "cell_type": "code",
   "execution_count": 69,
   "id": "9cb25b3c",
   "metadata": {
    "execution": {
     "iopub.execute_input": "2022-11-06T20:06:10.641188Z",
     "iopub.status.busy": "2022-11-06T20:06:10.640663Z",
     "iopub.status.idle": "2022-11-06T20:06:10.695797Z",
     "shell.execute_reply": "2022-11-06T20:06:10.694494Z"
    },
    "papermill": {
     "duration": 0.092388,
     "end_time": "2022-11-06T20:06:10.698586",
     "exception": false,
     "start_time": "2022-11-06T20:06:10.606198",
     "status": "completed"
    },
    "tags": []
   },
   "outputs": [],
   "source": [
    "# Dropping the Columns\n",
    "df = df.drop(columns=['User_ID','Product_ID'],axis=1)"
   ]
  },
  {
   "cell_type": "code",
   "execution_count": 70,
   "id": "e9f48a08",
   "metadata": {
    "execution": {
     "iopub.execute_input": "2022-11-06T20:06:10.766193Z",
     "iopub.status.busy": "2022-11-06T20:06:10.764919Z",
     "iopub.status.idle": "2022-11-06T20:06:10.826005Z",
     "shell.execute_reply": "2022-11-06T20:06:10.824637Z"
    },
    "papermill": {
     "duration": 0.098602,
     "end_time": "2022-11-06T20:06:10.829109",
     "exception": false,
     "start_time": "2022-11-06T20:06:10.730507",
     "status": "completed"
    },
    "tags": []
   },
   "outputs": [],
   "source": [
    "# Mapping the Age with the Discrete Value\n",
    "df['Age']=df['Age'].map({'0-17':0,'18-25':1,'26-35':2,'36-45':3,'46-50':4,'51-55':5,'55+':6})"
   ]
  },
  {
   "cell_type": "code",
   "execution_count": 71,
   "id": "1f1c9419",
   "metadata": {
    "execution": {
     "iopub.execute_input": "2022-11-06T20:06:10.898803Z",
     "iopub.status.busy": "2022-11-06T20:06:10.898350Z",
     "iopub.status.idle": "2022-11-06T20:06:11.073676Z",
     "shell.execute_reply": "2022-11-06T20:06:11.072405Z"
    },
    "papermill": {
     "duration": 0.21319,
     "end_time": "2022-11-06T20:06:11.076673",
     "exception": false,
     "start_time": "2022-11-06T20:06:10.863483",
     "status": "completed"
    },
    "tags": []
   },
   "outputs": [],
   "source": [
    "df=pd.get_dummies(df,columns=['City_Category','Gender']) # One hot encoding "
   ]
  },
  {
   "cell_type": "code",
   "execution_count": 72,
   "id": "b8d8a655",
   "metadata": {},
   "outputs": [
    {
     "data": {
      "text/html": [
       "<div>\n",
       "<style scoped>\n",
       "    .dataframe tbody tr th:only-of-type {\n",
       "        vertical-align: middle;\n",
       "    }\n",
       "\n",
       "    .dataframe tbody tr th {\n",
       "        vertical-align: top;\n",
       "    }\n",
       "\n",
       "    .dataframe thead th {\n",
       "        text-align: right;\n",
       "    }\n",
       "</style>\n",
       "<table border=\"1\" class=\"dataframe\">\n",
       "  <thead>\n",
       "    <tr style=\"text-align: right;\">\n",
       "      <th></th>\n",
       "      <th>Age</th>\n",
       "      <th>Occupation</th>\n",
       "      <th>Marital_Status</th>\n",
       "      <th>Product_Category_1</th>\n",
       "      <th>Product_Category_2</th>\n",
       "      <th>Product_Category_3</th>\n",
       "      <th>Purchase</th>\n",
       "      <th>City_Category_A</th>\n",
       "      <th>City_Category_B</th>\n",
       "      <th>City_Category_C</th>\n",
       "      <th>Gender_F</th>\n",
       "      <th>Gender_M</th>\n",
       "    </tr>\n",
       "  </thead>\n",
       "  <tbody>\n",
       "    <tr>\n",
       "      <th>count</th>\n",
       "      <td>547391.000000</td>\n",
       "      <td>547391.000000</td>\n",
       "      <td>547391.000000</td>\n",
       "      <td>547391.000000</td>\n",
       "      <td>374165.000000</td>\n",
       "      <td>166180.000000</td>\n",
       "      <td>547391.000000</td>\n",
       "      <td>547391.000000</td>\n",
       "      <td>547391.000000</td>\n",
       "      <td>547391.000000</td>\n",
       "      <td>547391.000000</td>\n",
       "      <td>547391.000000</td>\n",
       "    </tr>\n",
       "    <tr>\n",
       "      <th>mean</th>\n",
       "      <td>2.494630</td>\n",
       "      <td>8.074627</td>\n",
       "      <td>0.409486</td>\n",
       "      <td>5.378945</td>\n",
       "      <td>9.814082</td>\n",
       "      <td>12.655350</td>\n",
       "      <td>9195.627195</td>\n",
       "      <td>0.268612</td>\n",
       "      <td>0.420383</td>\n",
       "      <td>0.311004</td>\n",
       "      <td>0.247026</td>\n",
       "      <td>0.752974</td>\n",
       "    </tr>\n",
       "    <tr>\n",
       "      <th>std</th>\n",
       "      <td>1.352682</td>\n",
       "      <td>6.521586</td>\n",
       "      <td>0.491739</td>\n",
       "      <td>3.927383</td>\n",
       "      <td>5.087949</td>\n",
       "      <td>4.128044</td>\n",
       "      <td>4938.872953</td>\n",
       "      <td>0.443238</td>\n",
       "      <td>0.493621</td>\n",
       "      <td>0.462905</td>\n",
       "      <td>0.431283</td>\n",
       "      <td>0.431283</td>\n",
       "    </tr>\n",
       "    <tr>\n",
       "      <th>min</th>\n",
       "      <td>0.000000</td>\n",
       "      <td>0.000000</td>\n",
       "      <td>0.000000</td>\n",
       "      <td>1.000000</td>\n",
       "      <td>2.000000</td>\n",
       "      <td>3.000000</td>\n",
       "      <td>12.000000</td>\n",
       "      <td>0.000000</td>\n",
       "      <td>0.000000</td>\n",
       "      <td>0.000000</td>\n",
       "      <td>0.000000</td>\n",
       "      <td>0.000000</td>\n",
       "    </tr>\n",
       "    <tr>\n",
       "      <th>25%</th>\n",
       "      <td>2.000000</td>\n",
       "      <td>2.000000</td>\n",
       "      <td>0.000000</td>\n",
       "      <td>1.000000</td>\n",
       "      <td>5.000000</td>\n",
       "      <td>9.000000</td>\n",
       "      <td>5721.000000</td>\n",
       "      <td>0.000000</td>\n",
       "      <td>0.000000</td>\n",
       "      <td>0.000000</td>\n",
       "      <td>0.000000</td>\n",
       "      <td>1.000000</td>\n",
       "    </tr>\n",
       "    <tr>\n",
       "      <th>50%</th>\n",
       "      <td>2.000000</td>\n",
       "      <td>7.000000</td>\n",
       "      <td>0.000000</td>\n",
       "      <td>5.000000</td>\n",
       "      <td>9.000000</td>\n",
       "      <td>14.000000</td>\n",
       "      <td>8038.000000</td>\n",
       "      <td>0.000000</td>\n",
       "      <td>0.000000</td>\n",
       "      <td>0.000000</td>\n",
       "      <td>0.000000</td>\n",
       "      <td>1.000000</td>\n",
       "    </tr>\n",
       "    <tr>\n",
       "      <th>75%</th>\n",
       "      <td>3.000000</td>\n",
       "      <td>14.000000</td>\n",
       "      <td>1.000000</td>\n",
       "      <td>8.000000</td>\n",
       "      <td>15.000000</td>\n",
       "      <td>16.000000</td>\n",
       "      <td>12019.000000</td>\n",
       "      <td>1.000000</td>\n",
       "      <td>1.000000</td>\n",
       "      <td>1.000000</td>\n",
       "      <td>0.000000</td>\n",
       "      <td>1.000000</td>\n",
       "    </tr>\n",
       "    <tr>\n",
       "      <th>max</th>\n",
       "      <td>6.000000</td>\n",
       "      <td>20.000000</td>\n",
       "      <td>1.000000</td>\n",
       "      <td>20.000000</td>\n",
       "      <td>18.000000</td>\n",
       "      <td>18.000000</td>\n",
       "      <td>21399.000000</td>\n",
       "      <td>1.000000</td>\n",
       "      <td>1.000000</td>\n",
       "      <td>1.000000</td>\n",
       "      <td>1.000000</td>\n",
       "      <td>1.000000</td>\n",
       "    </tr>\n",
       "  </tbody>\n",
       "</table>\n",
       "</div>"
      ],
      "text/plain": [
       "                 Age     Occupation  Marital_Status  Product_Category_1  \\\n",
       "count  547391.000000  547391.000000   547391.000000       547391.000000   \n",
       "mean        2.494630       8.074627        0.409486            5.378945   \n",
       "std         1.352682       6.521586        0.491739            3.927383   \n",
       "min         0.000000       0.000000        0.000000            1.000000   \n",
       "25%         2.000000       2.000000        0.000000            1.000000   \n",
       "50%         2.000000       7.000000        0.000000            5.000000   \n",
       "75%         3.000000      14.000000        1.000000            8.000000   \n",
       "max         6.000000      20.000000        1.000000           20.000000   \n",
       "\n",
       "       Product_Category_2  Product_Category_3       Purchase  City_Category_A  \\\n",
       "count       374165.000000       166180.000000  547391.000000    547391.000000   \n",
       "mean             9.814082           12.655350    9195.627195         0.268612   \n",
       "std              5.087949            4.128044    4938.872953         0.443238   \n",
       "min              2.000000            3.000000      12.000000         0.000000   \n",
       "25%              5.000000            9.000000    5721.000000         0.000000   \n",
       "50%              9.000000           14.000000    8038.000000         0.000000   \n",
       "75%             15.000000           16.000000   12019.000000         1.000000   \n",
       "max             18.000000           18.000000   21399.000000         1.000000   \n",
       "\n",
       "       City_Category_B  City_Category_C       Gender_F       Gender_M  \n",
       "count    547391.000000    547391.000000  547391.000000  547391.000000  \n",
       "mean          0.420383         0.311004       0.247026       0.752974  \n",
       "std           0.493621         0.462905       0.431283       0.431283  \n",
       "min           0.000000         0.000000       0.000000       0.000000  \n",
       "25%           0.000000         0.000000       0.000000       1.000000  \n",
       "50%           0.000000         0.000000       0.000000       1.000000  \n",
       "75%           1.000000         1.000000       0.000000       1.000000  \n",
       "max           1.000000         1.000000       1.000000       1.000000  "
      ]
     },
     "execution_count": 72,
     "metadata": {},
     "output_type": "execute_result"
    }
   ],
   "source": [
    "df.describe()"
   ]
  },
  {
   "cell_type": "code",
   "execution_count": 73,
   "id": "3a671f17",
   "metadata": {
    "execution": {
     "iopub.execute_input": "2022-11-06T20:06:11.143658Z",
     "iopub.status.busy": "2022-11-06T20:06:11.142886Z",
     "iopub.status.idle": "2022-11-06T20:06:11.168527Z",
     "shell.execute_reply": "2022-11-06T20:06:11.167246Z"
    },
    "papermill": {
     "duration": 0.062879,
     "end_time": "2022-11-06T20:06:11.172045",
     "exception": false,
     "start_time": "2022-11-06T20:06:11.109166",
     "status": "completed"
    },
    "tags": []
   },
   "outputs": [],
   "source": [
    "#Filling the Nan Values of Product_Category_2 and Product_Category_3 with Median\n",
    "\n",
    "df['Product_Category_2'].fillna(df['Product_Category_2'].median(),inplace=True)"
   ]
  },
  {
   "cell_type": "code",
   "execution_count": 75,
   "id": "da8c25b9",
   "metadata": {},
   "outputs": [
    {
     "data": {
      "text/plain": [
       "Age                                0\n",
       "Occupation                         0\n",
       "Stay_In_Current_City_Years         0\n",
       "Marital_Status                     0\n",
       "Product_Category_1                 0\n",
       "Product_Category_2                 0\n",
       "Product_Category_3            381211\n",
       "Purchase                           0\n",
       "City_Category_A                    0\n",
       "City_Category_B                    0\n",
       "City_Category_C                    0\n",
       "Gender_F                           0\n",
       "Gender_M                           0\n",
       "dtype: int64"
      ]
     },
     "execution_count": 75,
     "metadata": {},
     "output_type": "execute_result"
    }
   ],
   "source": [
    "df.isnull().sum()"
   ]
  },
  {
   "cell_type": "code",
   "execution_count": 76,
   "id": "bfda62fc",
   "metadata": {
    "execution": {
     "iopub.execute_input": "2022-11-06T20:06:11.242182Z",
     "iopub.status.busy": "2022-11-06T20:06:11.241053Z",
     "iopub.status.idle": "2022-11-06T20:06:11.274055Z",
     "shell.execute_reply": "2022-11-06T20:06:11.273030Z"
    },
    "papermill": {
     "duration": 0.070799,
     "end_time": "2022-11-06T20:06:11.276905",
     "exception": false,
     "start_time": "2022-11-06T20:06:11.206106",
     "status": "completed"
    },
    "tags": []
   },
   "outputs": [],
   "source": [
    "df = df.drop(columns=['Product_Category_3'])"
   ]
  },
  {
   "cell_type": "code",
   "execution_count": 77,
   "id": "a6a8da87",
   "metadata": {
    "execution": {
     "iopub.execute_input": "2022-11-06T20:06:11.348299Z",
     "iopub.status.busy": "2022-11-06T20:06:11.347380Z",
     "iopub.status.idle": "2022-11-06T20:06:11.436132Z",
     "shell.execute_reply": "2022-11-06T20:06:11.434942Z"
    },
    "papermill": {
     "duration": 0.127453,
     "end_time": "2022-11-06T20:06:11.439349",
     "exception": false,
     "start_time": "2022-11-06T20:06:11.311896",
     "status": "completed"
    },
    "tags": []
   },
   "outputs": [],
   "source": [
    "df=pd.get_dummies(df,columns=['Stay_In_Current_City_Years'])"
   ]
  },
  {
   "cell_type": "code",
   "execution_count": 78,
   "id": "8ecc9ff7",
   "metadata": {
    "execution": {
     "iopub.execute_input": "2022-11-06T20:06:11.510478Z",
     "iopub.status.busy": "2022-11-06T20:06:11.510062Z",
     "iopub.status.idle": "2022-11-06T20:06:11.521398Z",
     "shell.execute_reply": "2022-11-06T20:06:11.520077Z"
    },
    "papermill": {
     "duration": 0.050326,
     "end_time": "2022-11-06T20:06:11.524277",
     "exception": false,
     "start_time": "2022-11-06T20:06:11.473951",
     "status": "completed"
    },
    "tags": []
   },
   "outputs": [],
   "source": [
    "df['Product_Category_2'] = df['Product_Category_2'].astype(int)"
   ]
  },
  {
   "cell_type": "code",
   "execution_count": 79,
   "id": "6cb8e0e6",
   "metadata": {
    "execution": {
     "iopub.execute_input": "2022-11-06T20:06:11.592814Z",
     "iopub.status.busy": "2022-11-06T20:06:11.592337Z",
     "iopub.status.idle": "2022-11-06T20:06:11.628280Z",
     "shell.execute_reply": "2022-11-06T20:06:11.626705Z"
    },
    "papermill": {
     "duration": 0.074542,
     "end_time": "2022-11-06T20:06:11.632244",
     "exception": false,
     "start_time": "2022-11-06T20:06:11.557702",
     "status": "completed"
    },
    "tags": []
   },
   "outputs": [
    {
     "name": "stdout",
     "output_type": "stream",
     "text": [
      "<class 'pandas.core.frame.DataFrame'>\n",
      "Int64Index: 547391 entries, 0 to 550067\n",
      "Data columns (total 16 columns):\n",
      " #   Column                         Non-Null Count   Dtype\n",
      "---  ------                         --------------   -----\n",
      " 0   Age                            547391 non-null  int64\n",
      " 1   Occupation                     547391 non-null  int64\n",
      " 2   Marital_Status                 547391 non-null  int64\n",
      " 3   Product_Category_1             547391 non-null  int64\n",
      " 4   Product_Category_2             547391 non-null  int32\n",
      " 5   Purchase                       547391 non-null  int64\n",
      " 6   City_Category_A                547391 non-null  uint8\n",
      " 7   City_Category_B                547391 non-null  uint8\n",
      " 8   City_Category_C                547391 non-null  uint8\n",
      " 9   Gender_F                       547391 non-null  uint8\n",
      " 10  Gender_M                       547391 non-null  uint8\n",
      " 11  Stay_In_Current_City_Years_0   547391 non-null  uint8\n",
      " 12  Stay_In_Current_City_Years_1   547391 non-null  uint8\n",
      " 13  Stay_In_Current_City_Years_2   547391 non-null  uint8\n",
      " 14  Stay_In_Current_City_Years_3   547391 non-null  uint8\n",
      " 15  Stay_In_Current_City_Years_4+  547391 non-null  uint8\n",
      "dtypes: int32(1), int64(5), uint8(10)\n",
      "memory usage: 32.4 MB\n"
     ]
    }
   ],
   "source": [
    "#Checking the Dtype of all Columns\n",
    "df.info()"
   ]
  },
  {
   "cell_type": "code",
   "execution_count": 80,
   "id": "672993c4",
   "metadata": {
    "execution": {
     "iopub.execute_input": "2022-11-06T20:06:11.699539Z",
     "iopub.status.busy": "2022-11-06T20:06:11.699076Z",
     "iopub.status.idle": "2022-11-06T20:06:11.722855Z",
     "shell.execute_reply": "2022-11-06T20:06:11.721629Z"
    },
    "papermill": {
     "duration": 0.060947,
     "end_time": "2022-11-06T20:06:11.725662",
     "exception": false,
     "start_time": "2022-11-06T20:06:11.664715",
     "status": "completed"
    },
    "tags": []
   },
   "outputs": [
    {
     "data": {
      "text/plain": [
       "Age                              0\n",
       "Occupation                       0\n",
       "Marital_Status                   0\n",
       "Product_Category_1               0\n",
       "Product_Category_2               0\n",
       "Purchase                         0\n",
       "City_Category_A                  0\n",
       "City_Category_B                  0\n",
       "City_Category_C                  0\n",
       "Gender_F                         0\n",
       "Gender_M                         0\n",
       "Stay_In_Current_City_Years_0     0\n",
       "Stay_In_Current_City_Years_1     0\n",
       "Stay_In_Current_City_Years_2     0\n",
       "Stay_In_Current_City_Years_3     0\n",
       "Stay_In_Current_City_Years_4+    0\n",
       "dtype: int64"
      ]
     },
     "execution_count": 80,
     "metadata": {},
     "output_type": "execute_result"
    }
   ],
   "source": [
    "# Checking the Null Values\n",
    "df.isna().sum()"
   ]
  },
  {
   "cell_type": "markdown",
   "id": "873687d1",
   "metadata": {
    "papermill": {
     "duration": 0.032458,
     "end_time": "2022-11-06T20:06:11.790506",
     "exception": false,
     "start_time": "2022-11-06T20:06:11.758048",
     "status": "completed"
    },
    "tags": []
   },
   "source": [
    "**Splitting the Data**"
   ]
  },
  {
   "cell_type": "code",
   "execution_count": 81,
   "id": "ee2a6713",
   "metadata": {
    "execution": {
     "iopub.execute_input": "2022-11-06T20:06:11.858271Z",
     "iopub.status.busy": "2022-11-06T20:06:11.857813Z",
     "iopub.status.idle": "2022-11-06T20:06:11.913061Z",
     "shell.execute_reply": "2022-11-06T20:06:11.911792Z"
    },
    "papermill": {
     "duration": 0.093295,
     "end_time": "2022-11-06T20:06:11.916211",
     "exception": false,
     "start_time": "2022-11-06T20:06:11.822916",
     "status": "completed"
    },
    "tags": []
   },
   "outputs": [],
   "source": [
    "X=df.drop(columns=['Purchase'])\n",
    "y=df['Purchase']"
   ]
  },
  {
   "cell_type": "code",
   "execution_count": 82,
   "id": "1875657c",
   "metadata": {
    "execution": {
     "iopub.execute_input": "2022-11-06T20:06:11.985115Z",
     "iopub.status.busy": "2022-11-06T20:06:11.984642Z",
     "iopub.status.idle": "2022-11-06T20:06:12.158351Z",
     "shell.execute_reply": "2022-11-06T20:06:12.156983Z"
    },
    "papermill": {
     "duration": 0.212283,
     "end_time": "2022-11-06T20:06:12.161771",
     "exception": false,
     "start_time": "2022-11-06T20:06:11.949488",
     "status": "completed"
    },
    "tags": []
   },
   "outputs": [],
   "source": [
    "X_train,X_test,y_train,y_test = train_test_split(X,y,test_size=0.2,random_state=42)"
   ]
  },
  {
   "cell_type": "code",
   "execution_count": 83,
   "id": "9f00ccf4",
   "metadata": {
    "execution": {
     "iopub.execute_input": "2022-11-06T20:06:12.232880Z",
     "iopub.status.busy": "2022-11-06T20:06:12.231972Z",
     "iopub.status.idle": "2022-11-06T20:06:12.248662Z",
     "shell.execute_reply": "2022-11-06T20:06:12.247501Z"
    },
    "papermill": {
     "duration": 0.055247,
     "end_time": "2022-11-06T20:06:12.251620",
     "exception": false,
     "start_time": "2022-11-06T20:06:12.196373",
     "status": "completed"
    },
    "tags": []
   },
   "outputs": [
    {
     "data": {
      "text/html": [
       "<div>\n",
       "<style scoped>\n",
       "    .dataframe tbody tr th:only-of-type {\n",
       "        vertical-align: middle;\n",
       "    }\n",
       "\n",
       "    .dataframe tbody tr th {\n",
       "        vertical-align: top;\n",
       "    }\n",
       "\n",
       "    .dataframe thead th {\n",
       "        text-align: right;\n",
       "    }\n",
       "</style>\n",
       "<table border=\"1\" class=\"dataframe\">\n",
       "  <thead>\n",
       "    <tr style=\"text-align: right;\">\n",
       "      <th></th>\n",
       "      <th>Age</th>\n",
       "      <th>Occupation</th>\n",
       "      <th>Marital_Status</th>\n",
       "      <th>Product_Category_1</th>\n",
       "      <th>Product_Category_2</th>\n",
       "      <th>City_Category_A</th>\n",
       "      <th>City_Category_B</th>\n",
       "      <th>City_Category_C</th>\n",
       "      <th>Gender_F</th>\n",
       "      <th>Gender_M</th>\n",
       "      <th>Stay_In_Current_City_Years_0</th>\n",
       "      <th>Stay_In_Current_City_Years_1</th>\n",
       "      <th>Stay_In_Current_City_Years_2</th>\n",
       "      <th>Stay_In_Current_City_Years_3</th>\n",
       "      <th>Stay_In_Current_City_Years_4+</th>\n",
       "    </tr>\n",
       "  </thead>\n",
       "  <tbody>\n",
       "    <tr>\n",
       "      <th>538859</th>\n",
       "      <td>3</td>\n",
       "      <td>0</td>\n",
       "      <td>1</td>\n",
       "      <td>1</td>\n",
       "      <td>8</td>\n",
       "      <td>1</td>\n",
       "      <td>0</td>\n",
       "      <td>0</td>\n",
       "      <td>0</td>\n",
       "      <td>1</td>\n",
       "      <td>0</td>\n",
       "      <td>1</td>\n",
       "      <td>0</td>\n",
       "      <td>0</td>\n",
       "      <td>0</td>\n",
       "    </tr>\n",
       "    <tr>\n",
       "      <th>219651</th>\n",
       "      <td>2</td>\n",
       "      <td>15</td>\n",
       "      <td>0</td>\n",
       "      <td>3</td>\n",
       "      <td>4</td>\n",
       "      <td>0</td>\n",
       "      <td>0</td>\n",
       "      <td>1</td>\n",
       "      <td>0</td>\n",
       "      <td>1</td>\n",
       "      <td>0</td>\n",
       "      <td>1</td>\n",
       "      <td>0</td>\n",
       "      <td>0</td>\n",
       "      <td>0</td>\n",
       "    </tr>\n",
       "    <tr>\n",
       "      <th>524297</th>\n",
       "      <td>0</td>\n",
       "      <td>10</td>\n",
       "      <td>0</td>\n",
       "      <td>1</td>\n",
       "      <td>2</td>\n",
       "      <td>0</td>\n",
       "      <td>1</td>\n",
       "      <td>0</td>\n",
       "      <td>1</td>\n",
       "      <td>0</td>\n",
       "      <td>0</td>\n",
       "      <td>0</td>\n",
       "      <td>1</td>\n",
       "      <td>0</td>\n",
       "      <td>0</td>\n",
       "    </tr>\n",
       "    <tr>\n",
       "      <th>54967</th>\n",
       "      <td>2</td>\n",
       "      <td>0</td>\n",
       "      <td>1</td>\n",
       "      <td>5</td>\n",
       "      <td>14</td>\n",
       "      <td>0</td>\n",
       "      <td>1</td>\n",
       "      <td>0</td>\n",
       "      <td>0</td>\n",
       "      <td>1</td>\n",
       "      <td>0</td>\n",
       "      <td>0</td>\n",
       "      <td>0</td>\n",
       "      <td>1</td>\n",
       "      <td>0</td>\n",
       "    </tr>\n",
       "    <tr>\n",
       "      <th>189098</th>\n",
       "      <td>3</td>\n",
       "      <td>12</td>\n",
       "      <td>1</td>\n",
       "      <td>5</td>\n",
       "      <td>9</td>\n",
       "      <td>0</td>\n",
       "      <td>1</td>\n",
       "      <td>0</td>\n",
       "      <td>0</td>\n",
       "      <td>1</td>\n",
       "      <td>0</td>\n",
       "      <td>0</td>\n",
       "      <td>1</td>\n",
       "      <td>0</td>\n",
       "      <td>0</td>\n",
       "    </tr>\n",
       "  </tbody>\n",
       "</table>\n",
       "</div>"
      ],
      "text/plain": [
       "        Age  Occupation  Marital_Status  Product_Category_1  \\\n",
       "538859    3           0               1                   1   \n",
       "219651    2          15               0                   3   \n",
       "524297    0          10               0                   1   \n",
       "54967     2           0               1                   5   \n",
       "189098    3          12               1                   5   \n",
       "\n",
       "        Product_Category_2  City_Category_A  City_Category_B  City_Category_C  \\\n",
       "538859                   8                1                0                0   \n",
       "219651                   4                0                0                1   \n",
       "524297                   2                0                1                0   \n",
       "54967                   14                0                1                0   \n",
       "189098                   9                0                1                0   \n",
       "\n",
       "        Gender_F  Gender_M  Stay_In_Current_City_Years_0  \\\n",
       "538859         0         1                             0   \n",
       "219651         0         1                             0   \n",
       "524297         1         0                             0   \n",
       "54967          0         1                             0   \n",
       "189098         0         1                             0   \n",
       "\n",
       "        Stay_In_Current_City_Years_1  Stay_In_Current_City_Years_2  \\\n",
       "538859                             1                             0   \n",
       "219651                             1                             0   \n",
       "524297                             0                             1   \n",
       "54967                              0                             0   \n",
       "189098                             0                             1   \n",
       "\n",
       "        Stay_In_Current_City_Years_3  Stay_In_Current_City_Years_4+  \n",
       "538859                             0                              0  \n",
       "219651                             0                              0  \n",
       "524297                             0                              0  \n",
       "54967                              1                              0  \n",
       "189098                             0                              0  "
      ]
     },
     "execution_count": 83,
     "metadata": {},
     "output_type": "execute_result"
    }
   ],
   "source": [
    "X_train.head()"
   ]
  },
  {
   "cell_type": "markdown",
   "id": "85970ff9",
   "metadata": {
    "papermill": {
     "duration": 0.034405,
     "end_time": "2022-11-06T20:06:12.321508",
     "exception": false,
     "start_time": "2022-11-06T20:06:12.287103",
     "status": "completed"
    },
    "tags": []
   },
   "source": [
    "**Feature Selection**"
   ]
  },
  {
   "cell_type": "code",
   "execution_count": 84,
   "id": "a2780e30",
   "metadata": {
    "execution": {
     "iopub.execute_input": "2022-11-06T20:06:12.391174Z",
     "iopub.status.busy": "2022-11-06T20:06:12.390757Z",
     "iopub.status.idle": "2022-11-06T20:06:12.395734Z",
     "shell.execute_reply": "2022-11-06T20:06:12.394578Z"
    },
    "papermill": {
     "duration": 0.04354,
     "end_time": "2022-11-06T20:06:12.398619",
     "exception": false,
     "start_time": "2022-11-06T20:06:12.355079",
     "status": "completed"
    },
    "tags": []
   },
   "outputs": [],
   "source": [
    "X=X_train\n",
    "y=y_train"
   ]
  },
  {
   "cell_type": "code",
   "execution_count": 85,
   "id": "8c30829d",
   "metadata": {
    "execution": {
     "iopub.execute_input": "2022-11-06T20:06:12.469299Z",
     "iopub.status.busy": "2022-11-06T20:06:12.468241Z",
     "iopub.status.idle": "2022-11-06T20:06:12.912341Z",
     "shell.execute_reply": "2022-11-06T20:06:12.911188Z"
    },
    "papermill": {
     "duration": 0.482075,
     "end_time": "2022-11-06T20:06:12.914996",
     "exception": false,
     "start_time": "2022-11-06T20:06:12.432921",
     "status": "completed"
    },
    "tags": []
   },
   "outputs": [
    {
     "data": {
      "image/png": "[encoded data removed]",
      "text/plain": [
       "<Figure size 720x864 with 1 Axes>"
      ]
     },
     "metadata": {
      "needs_background": "light"
     },
     "output_type": "display_data"
    }
   ],
   "source": [
    "# Using the Annova Test and SelectKBest to get the Best Features\n",
    "skb=SelectKBest(f_regression,k=12)\n",
    "KBest_features=skb.fit(X,y)\n",
    "\n",
    "mask=KBest_features.get_support(True)\n",
    "names=[]\n",
    "for i in mask:\n",
    "    names.append(X.columns[i])\n",
    "\n",
    "scores=skb.scores_\n",
    "named_scores=zip(names,scores)\n",
    "sorted_named_scores=sorted(named_scores,key=lambda z: z[1],reverse=True)\n",
    "\n",
    "sorted_scores=[score[1] for score in sorted_named_scores]\n",
    "sorted_names=[name[0] for name in sorted_named_scores]\n",
    "\n",
    "y_pos=np.arange(len(names))\n",
    "\n",
    "plt.figure(figsize=(10,12))\n",
    "plt.barh(y_pos,sorted_scores,height=0.8,align='center',tick_label=sorted_names,color='#E63946')\n",
    "plt.yticks(y_pos)\n",
    "plt.xlabel('Feature Score')\n",
    "plt.ylabel('Feature Name')\n",
    "plt.title('KBest Features');"
   ]
  },
  {
   "cell_type": "code",
   "execution_count": 86,
   "id": "01f06b42",
   "metadata": {
    "execution": {
     "iopub.execute_input": "2022-11-06T20:06:12.984984Z",
     "iopub.status.busy": "2022-11-06T20:06:12.983904Z",
     "iopub.status.idle": "2022-11-06T20:06:12.998262Z",
     "shell.execute_reply": "2022-11-06T20:06:12.997180Z"
    },
    "papermill": {
     "duration": 0.052724,
     "end_time": "2022-11-06T20:06:13.000861",
     "exception": false,
     "start_time": "2022-11-06T20:06:12.948137",
     "status": "completed"
    },
    "tags": []
   },
   "outputs": [],
   "source": [
    "X_train = X_train[names]\n",
    "X_test = X_test[names]"
   ]
  },
  {
   "cell_type": "code",
   "execution_count": 87,
   "id": "2e9a32af",
   "metadata": {
    "execution": {
     "iopub.execute_input": "2022-11-06T20:06:13.073005Z",
     "iopub.status.busy": "2022-11-06T20:06:13.072066Z",
     "iopub.status.idle": "2022-11-06T20:06:13.080601Z",
     "shell.execute_reply": "2022-11-06T20:06:13.079412Z"
    },
    "papermill": {
     "duration": 0.047457,
     "end_time": "2022-11-06T20:06:13.083125",
     "exception": false,
     "start_time": "2022-11-06T20:06:13.035668",
     "status": "completed"
    },
    "tags": []
   },
   "outputs": [
    {
     "data": {
      "text/plain": [
       "(437912, 12)"
      ]
     },
     "execution_count": 87,
     "metadata": {},
     "output_type": "execute_result"
    }
   ],
   "source": [
    "X_train.shape"
   ]
  },
  {
   "cell_type": "code",
   "execution_count": 88,
   "id": "3250b75e",
   "metadata": {
    "execution": {
     "iopub.execute_input": "2022-11-06T20:06:13.153626Z",
     "iopub.status.busy": "2022-11-06T20:06:13.153222Z",
     "iopub.status.idle": "2022-11-06T20:06:13.160623Z",
     "shell.execute_reply": "2022-11-06T20:06:13.159314Z"
    },
    "papermill": {
     "duration": 0.045766,
     "end_time": "2022-11-06T20:06:13.163047",
     "exception": false,
     "start_time": "2022-11-06T20:06:13.117281",
     "status": "completed"
    },
    "tags": []
   },
   "outputs": [
    {
     "data": {
      "text/plain": [
       "(109479, 12)"
      ]
     },
     "execution_count": 88,
     "metadata": {},
     "output_type": "execute_result"
    }
   ],
   "source": [
    "X_test.shape"
   ]
  },
  {
   "cell_type": "markdown",
   "id": "feafb518",
   "metadata": {
    "papermill": {
     "duration": 0.034286,
     "end_time": "2022-11-06T20:06:13.232331",
     "exception": false,
     "start_time": "2022-11-06T20:06:13.198045",
     "status": "completed"
    },
    "tags": []
   },
   "source": [
    "**PreProcessing the Data**"
   ]
  },
  {
   "cell_type": "code",
   "execution_count": 89,
   "id": "b4a323f0",
   "metadata": {
    "execution": {
     "iopub.execute_input": "2022-11-06T20:06:13.307041Z",
     "iopub.status.busy": "2022-11-06T20:06:13.305211Z",
     "iopub.status.idle": "2022-11-06T20:06:13.530600Z",
     "shell.execute_reply": "2022-11-06T20:06:13.529462Z"
    },
    "papermill": {
     "duration": 0.264795,
     "end_time": "2022-11-06T20:06:13.533484",
     "exception": false,
     "start_time": "2022-11-06T20:06:13.268689",
     "status": "completed"
    },
    "tags": []
   },
   "outputs": [],
   "source": [
    "sr = StandardScaler()\n",
    "X_train=sr.fit_transform(X_train)\n",
    "X_test = sr.transform(X_test)"
   ]
  },
  {
   "cell_type": "markdown",
   "id": "b6dc2edc",
   "metadata": {
    "papermill": {
     "duration": 0.033734,
     "end_time": "2022-11-06T20:06:13.602078",
     "exception": false,
     "start_time": "2022-11-06T20:06:13.568344",
     "status": "completed"
    },
    "tags": []
   },
   "source": [
    "# Model Selection "
   ]
  },
  {
   "cell_type": "code",
   "execution_count": 90,
   "id": "de51c708",
   "metadata": {
    "execution": {
     "iopub.execute_input": "2022-11-06T20:06:13.673828Z",
     "iopub.status.busy": "2022-11-06T20:06:13.672471Z",
     "iopub.status.idle": "2022-11-06T20:06:13.929022Z",
     "shell.execute_reply": "2022-11-06T20:06:13.927286Z"
    },
    "papermill": {
     "duration": 0.297073,
     "end_time": "2022-11-06T20:06:13.933443",
     "exception": false,
     "start_time": "2022-11-06T20:06:13.636370",
     "status": "completed"
    },
    "tags": []
   },
   "outputs": [
    {
     "data": {
      "text/plain": [
       "LinearRegression()"
      ]
     },
     "execution_count": 90,
     "metadata": {},
     "output_type": "execute_result"
    }
   ],
   "source": [
    "lr = LinearRegression()\n",
    "lr.fit(X_train,y_train)"
   ]
  },
  {
   "cell_type": "code",
   "execution_count": 91,
   "id": "dd4a500f",
   "metadata": {
    "execution": {
     "iopub.execute_input": "2022-11-06T20:06:14.019469Z",
     "iopub.status.busy": "2022-11-06T20:06:14.018777Z",
     "iopub.status.idle": "2022-11-06T20:06:14.034157Z",
     "shell.execute_reply": "2022-11-06T20:06:14.032543Z"
    },
    "papermill": {
     "duration": 0.057837,
     "end_time": "2022-11-06T20:06:14.039791",
     "exception": false,
     "start_time": "2022-11-06T20:06:13.981954",
     "status": "completed"
    },
    "tags": []
   },
   "outputs": [
    {
     "name": "stdout",
     "output_type": "stream",
     "text": [
      "0.14601737253507663\n"
     ]
    }
   ],
   "source": [
    "pred_y=lr.predict(X_test)\n",
    "print(r2_score(y_test,pred_y))"
   ]
  },
  {
   "cell_type": "code",
   "execution_count": 92,
   "id": "d317a174",
   "metadata": {
    "execution": {
     "iopub.execute_input": "2022-11-06T20:06:14.175101Z",
     "iopub.status.busy": "2022-11-06T20:06:14.174647Z",
     "iopub.status.idle": "2022-11-06T20:06:16.089569Z",
     "shell.execute_reply": "2022-11-06T20:06:16.088050Z"
    },
    "papermill": {
     "duration": 1.967479,
     "end_time": "2022-11-06T20:06:16.093935",
     "exception": false,
     "start_time": "2022-11-06T20:06:14.126456",
     "status": "completed"
    },
    "tags": []
   },
   "outputs": [
    {
     "data": {
      "text/plain": [
       "Lasso()"
      ]
     },
     "execution_count": 92,
     "metadata": {},
     "output_type": "execute_result"
    }
   ],
   "source": [
    "las = Lasso()\n",
    "las.fit(X_train,y_train)"
   ]
  },
  {
   "cell_type": "code",
   "execution_count": 93,
   "id": "df7d337e",
   "metadata": {
    "execution": {
     "iopub.execute_input": "2022-11-06T20:06:16.233811Z",
     "iopub.status.busy": "2022-11-06T20:06:16.233368Z",
     "iopub.status.idle": "2022-11-06T20:06:16.249015Z",
     "shell.execute_reply": "2022-11-06T20:06:16.247773Z"
    },
    "papermill": {
     "duration": 0.068708,
     "end_time": "2022-11-06T20:06:16.252830",
     "exception": false,
     "start_time": "2022-11-06T20:06:16.184122",
     "status": "completed"
    },
    "tags": []
   },
   "outputs": [
    {
     "name": "stdout",
     "output_type": "stream",
     "text": [
      "0.14602028482367668\n"
     ]
    }
   ],
   "source": [
    "y_pred = las.predict(X_test)\n",
    "print(r2_score(y_test,y_pred))"
   ]
  },
  {
   "cell_type": "markdown",
   "id": "fdcbcad4",
   "metadata": {
    "papermill": {
     "duration": 0.047356,
     "end_time": "2022-11-06T20:06:16.388736",
     "exception": false,
     "start_time": "2022-11-06T20:06:16.341380",
     "status": "completed"
    },
    "tags": []
   },
   "source": [
    "**Conclusion**\n",
    "* The Independent Features are very Highly correlated with the Target Value.\n",
    "* The Accuracy is not Good but can be improved with the help of HyperParameter Tuning."
   ]
  }
 ],
 "metadata": {
  "kernelspec": {
   "display_name": "Python 3 (ipykernel)",
   "language": "python",
   "name": "python3"
  },
  "language_info": {
   "codemirror_mode": {
    "name": "ipython",
    "version": 3
   },
   "file_extension": ".py",
   "mimetype": "text/x-python",
   "name": "python",
   "nbconvert_exporter": "python",
   "pygments_lexer": "ipython3",
   "version": "3.9.12"
  },
  "papermill": {
   "default_parameters": {},
   "duration": 128.65359,
   "end_time": "2022-11-06T20:06:17.551713",
   "environment_variables": {},
   "exception": null,
   "input_path": "__notebook__.ipynb",
   "output_path": "__notebook__.ipynb",
   "parameters": {},
   "start_time": "2022-11-06T20:04:08.898123",
   "version": "2.3.4"
  }
 },
 "nbformat": 4,
 "nbformat_minor": 5
}
